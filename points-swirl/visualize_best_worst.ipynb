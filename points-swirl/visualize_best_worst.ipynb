{
 "cells": [
  {
   "cell_type": "code",
   "execution_count": 1,
   "metadata": {},
   "outputs": [],
   "source": [
    "import pandas as pd\n",
    "import matplotlib.pyplot as plt\n",
    "from common import Fonts, Images, NWSL, Colors, add_signature"
   ]
  },
  {
   "cell_type": "code",
   "execution_count": 2,
   "metadata": {},
   "outputs": [
    {
     "data": {
      "text/html": [
       "<div>\n",
       "<style scoped>\n",
       "    .dataframe tbody tr th:only-of-type {\n",
       "        vertical-align: middle;\n",
       "    }\n",
       "\n",
       "    .dataframe tbody tr th {\n",
       "        vertical-align: top;\n",
       "    }\n",
       "\n",
       "    .dataframe thead th {\n",
       "        text-align: right;\n",
       "    }\n",
       "</style>\n",
       "<table border=\"1\" class=\"dataframe\">\n",
       "  <thead>\n",
       "    <tr style=\"text-align: right;\">\n",
       "      <th></th>\n",
       "      <th>team</th>\n",
       "      <th>season</th>\n",
       "      <th>points</th>\n",
       "    </tr>\n",
       "  </thead>\n",
       "  <tbody>\n",
       "    <tr>\n",
       "      <th>0</th>\n",
       "      <td>BOS</td>\n",
       "      <td>2013</td>\n",
       "      <td>[1, 4, 7, 8, 8, 8, 11, 11, 12, 15, 18, 21, 22,...</td>\n",
       "    </tr>\n",
       "    <tr>\n",
       "      <th>1</th>\n",
       "      <td>CHI</td>\n",
       "      <td>2013</td>\n",
       "      <td>[1, 1, 1, 4, 4, 5, 8, 9, 12, 15, 16, 16, 17, 1...</td>\n",
       "    </tr>\n",
       "    <tr>\n",
       "      <th>2</th>\n",
       "      <td>KC</td>\n",
       "      <td>2013</td>\n",
       "      <td>[1, 4, 7, 7, 7, 10, 13, 14, 17, 20, 20, 23, 23...</td>\n",
       "    </tr>\n",
       "    <tr>\n",
       "      <th>3</th>\n",
       "      <td>NJNY</td>\n",
       "      <td>2013</td>\n",
       "      <td>[3, 4, 7, 10, 10, 11, 12, 15, 16, 16, 19, 22, ...</td>\n",
       "    </tr>\n",
       "    <tr>\n",
       "      <th>4</th>\n",
       "      <td>POR</td>\n",
       "      <td>2013</td>\n",
       "      <td>[3, 3, 6, 6, 9, 12, 12, 13, 14, 17, 17, 18, 21...</td>\n",
       "    </tr>\n",
       "    <tr>\n",
       "      <th>...</th>\n",
       "      <td>...</td>\n",
       "      <td>...</td>\n",
       "      <td>...</td>\n",
       "    </tr>\n",
       "    <tr>\n",
       "      <th>107</th>\n",
       "      <td>POR</td>\n",
       "      <td>2024</td>\n",
       "      <td>[0, 1, 4, 7, 10, 13, 13, 16, 16, 16, 16, 19, 2...</td>\n",
       "    </tr>\n",
       "    <tr>\n",
       "      <th>108</th>\n",
       "      <td>RGN</td>\n",
       "      <td>2024</td>\n",
       "      <td>[3, 3, 6, 7, 7, 8, 9, 10, 13, 13, 13, 13, 16, ...</td>\n",
       "    </tr>\n",
       "    <tr>\n",
       "      <th>109</th>\n",
       "      <td>SD</td>\n",
       "      <td>2024</td>\n",
       "      <td>[0, 3, 6, 9, 10, 11, 11, 11, 12, 12, 15, 15, 1...</td>\n",
       "    </tr>\n",
       "    <tr>\n",
       "      <th>110</th>\n",
       "      <td>UTA</td>\n",
       "      <td>2024</td>\n",
       "      <td>[0, 3, 3, 4, 4, 4, 4, 5, 8, 8, 11, 14, 14, 14,...</td>\n",
       "    </tr>\n",
       "    <tr>\n",
       "      <th>111</th>\n",
       "      <td>WAS</td>\n",
       "      <td>2024</td>\n",
       "      <td>[3, 6, 9, 9, 12, 15, 16, 16, 19, 22, 25, 28, 3...</td>\n",
       "    </tr>\n",
       "  </tbody>\n",
       "</table>\n",
       "<p>112 rows × 3 columns</p>\n",
       "</div>"
      ],
      "text/plain": [
       "     team  season                                             points\n",
       "0     BOS    2013  [1, 4, 7, 8, 8, 8, 11, 11, 12, 15, 18, 21, 22,...\n",
       "1     CHI    2013  [1, 1, 1, 4, 4, 5, 8, 9, 12, 15, 16, 16, 17, 1...\n",
       "2      KC    2013  [1, 4, 7, 7, 7, 10, 13, 14, 17, 20, 20, 23, 23...\n",
       "3    NJNY    2013  [3, 4, 7, 10, 10, 11, 12, 15, 16, 16, 19, 22, ...\n",
       "4     POR    2013  [3, 3, 6, 6, 9, 12, 12, 13, 14, 17, 17, 18, 21...\n",
       "..    ...     ...                                                ...\n",
       "107   POR    2024  [0, 1, 4, 7, 10, 13, 13, 16, 16, 16, 16, 19, 2...\n",
       "108   RGN    2024  [3, 3, 6, 7, 7, 8, 9, 10, 13, 13, 13, 13, 16, ...\n",
       "109    SD    2024  [0, 3, 6, 9, 10, 11, 11, 11, 12, 12, 15, 15, 1...\n",
       "110   UTA    2024  [0, 3, 3, 4, 4, 4, 4, 5, 8, 8, 11, 14, 14, 14,...\n",
       "111   WAS    2024  [3, 6, 9, 9, 12, 15, 16, 16, 19, 22, 25, 28, 3...\n",
       "\n",
       "[112 rows x 3 columns]"
      ]
     },
     "execution_count": 2,
     "metadata": {},
     "output_type": "execute_result"
    }
   ],
   "source": [
    "df = pd.read_csv(\"final.csv\")\n",
    "df"
   ]
  },
  {
   "cell_type": "code",
   "execution_count": 3,
   "metadata": {},
   "outputs": [],
   "source": [
    "halfway = False"
   ]
  },
  {
   "cell_type": "code",
   "execution_count": 4,
   "metadata": {},
   "outputs": [],
   "source": [
    "results = pd.DataFrame([], columns=[\"season\", \"best\", \"worst\"])\n",
    "for season in df[\"season\"].unique():\n",
    "    best = 0\n",
    "    worst = 1\n",
    "    data = df[df[\"season\"] == season]\n",
    "    for team in data[\"team\"].unique():\n",
    "        points = list(\n",
    "            map(int, data[data[\"team\"] == team][\"points\"].iloc[0][1:-1].split(\", \"))\n",
    "        )\n",
    "\n",
    "        idx = int(len(points) / 2) - 1 if halfway else int(len(points)) - 1\n",
    "        val = points[idx] / (3 * len(points) / (2 if halfway else 1))\n",
    "        if val > best:\n",
    "            best = val\n",
    "        if val < worst:\n",
    "            worst = val\n",
    "\n",
    "    results.loc[len(results.index)] = [season, best, worst]\n",
    "\n",
    "results[\"season\"] = results[\"season\"].astype(int)"
   ]
  },
  {
   "cell_type": "code",
   "execution_count": 5,
   "metadata": {},
   "outputs": [
    {
     "data": {
      "text/plain": [
       "<Figure size 432x288 with 0 Axes>"
      ]
     },
     "metadata": {},
     "output_type": "display_data"
    },
    {
     "data": {
      "text/plain": [
       "<Figure size 2400x1600 with 0 Axes>"
      ]
     },
     "metadata": {},
     "output_type": "display_data"
    },
    {
     "data": {
      "image/png": "[encoded data removed]",
      "text/plain": [
       "<Figure size 864x576 with 3 Axes>"
      ]
     },
     "metadata": {},
     "output_type": "display_data"
    }
   ],
   "source": [
    "season = \"2024\"\n",
    "\n",
    "plt.clf()\n",
    "plt.rcParams[\"figure.figsize\"] = (12, 8)\n",
    "plt.figure(dpi=200, facecolor=Colors.WHITE)\n",
    "fig, ax = plt.subplots()\n",
    "fig.patch.set_facecolor(Colors.WHITE)\n",
    "ax.set_facecolor(Colors.WHITE)\n",
    "\n",
    "best = \"#1d2d53\"\n",
    "worst = \"#d22030\"\n",
    "\n",
    "plt.bar(results.index - 0.2, results[\"worst\"], 0.4, color=worst)\n",
    "plt.bar(results.index + 0.2, results[\"best\"], 0.4, color = best)\n",
    "\n",
    "# Axes and ticks\n",
    "ax.spines[[\"top\", \"left\", \"right\"]].set_visible(False)\n",
    "ax.set_axisbelow(True)\n",
    "ax.yaxis.grid(True, color=Colors.LIGHT_GRAY)\n",
    "ax.tick_params(axis=\"both\", which=\"major\", labelsize=16, labelcolor=Colors.BLACK)\n",
    "ax.tick_params(bottom=False, left=False)\n",
    "ax.set_ylim([0, 1])\n",
    "ax.set_xticks(results.index)\n",
    "ax.set_xticklabels(results[\"season\"])\n",
    "ax.set_ylabel(\"Proportion of possible points\", fontproperties=Fonts.BARLOW,\n",
    "    size=20, color=Colors.BLACK)\n",
    "\n",
    "# Title\n",
    "ax.set_title(\n",
    "    season + \" NWSL Points\",\n",
    "    fontproperties=Fonts.BARLOW_BOLD,\n",
    "    size=36,\n",
    "    ha=\"left\",\n",
    "    x=0,\n",
    "    y=1.15,\n",
    ")\n",
    "\n",
    "# Subtitle\n",
    "ax.text(\n",
    "    -0.82,\n",
    "    1.05,\n",
    "    \"The 2024 season finishes with a larger gap between the         and                 \\nteams at the conclusion of the season.\",\n",
    "    fontproperties=Fonts.BARLOW,\n",
    "    size=20,\n",
    "    ha=\"left\",\n",
    ")\n",
    "\n",
    "plt.figtext(\n",
    "    0.688,\n",
    "    0.954,\n",
    "    \"top\",\n",
    "    fontproperties=Fonts.BARLOW_BOLD,\n",
    "    fontsize=20,\n",
    "    color=best,\n",
    ")\n",
    "\n",
    "plt.figtext(\n",
    "    0.77,\n",
    "    0.954,\n",
    "    \"bottom\",\n",
    "    fontproperties=Fonts.BARLOW_BOLD,\n",
    "    fontsize=20,\n",
    "    color=worst,\n",
    ")\n",
    "\n",
    "add_signature(fig, x=0.78, y=0.04, fs=14, w=0.025)\n",
    "\n",
    "# Save image\n",
    "plt.savefig(\n",
    "    \"best_worst_\" + season + \".png\" if halfway else \"best_worst_\" + season + \".png\",\n",
    "    bbox_inches=\"tight\",\n",
    "    transparent=False,\n",
    "    pad_inches=0.5,\n",
    "    dpi=200,\n",
    ")"
   ]
  },
  {
   "cell_type": "code",
   "execution_count": null,
   "metadata": {},
   "outputs": [],
   "source": []
  }
 ],
 "metadata": {
  "kernelspec": {
   "display_name": "Python 3",
   "language": "python",
   "name": "python3"
  },
  "language_info": {
   "codemirror_mode": {
    "name": "ipython",
    "version": 3
   },
   "file_extension": ".py",
   "mimetype": "text/x-python",
   "name": "python",
   "nbconvert_exporter": "python",
   "pygments_lexer": "ipython3",
   "version": "3.8.10"
  }
 },
 "nbformat": 4,
 "nbformat_minor": 4
}
