{
 "cells": [
  {
   "cell_type": "code",
   "execution_count": 1,
   "metadata": {},
   "outputs": [],
   "source": [
    "from operator import add\n",
    "import pandas as pd\n",
    "import itertools\n",
    "from common import Data, Playoffs"
   ]
  },
  {
   "cell_type": "code",
   "execution_count": 2,
   "metadata": {},
   "outputs": [
    {
     "data": {
      "text/html": [
       "<div>\n",
       "<style scoped>\n",
       "    .dataframe tbody tr th:only-of-type {\n",
       "        vertical-align: middle;\n",
       "    }\n",
       "\n",
       "    .dataframe tbody tr th {\n",
       "        vertical-align: top;\n",
       "    }\n",
       "\n",
       "    .dataframe thead th {\n",
       "        text-align: right;\n",
       "    }\n",
       "</style>\n",
       "<table border=\"1\" class=\"dataframe\">\n",
       "  <thead>\n",
       "    <tr style=\"text-align: right;\">\n",
       "      <th></th>\n",
       "      <th>team</th>\n",
       "      <th>wins</th>\n",
       "      <th>draws</th>\n",
       "      <th>losses</th>\n",
       "      <th>goals_for</th>\n",
       "      <th>goals_against</th>\n",
       "      <th>goals_diff</th>\n",
       "      <th>points</th>\n",
       "    </tr>\n",
       "  </thead>\n",
       "  <tbody>\n",
       "    <tr>\n",
       "      <th>1</th>\n",
       "      <td>ORL</td>\n",
       "      <td>17</td>\n",
       "      <td>6</td>\n",
       "      <td>1</td>\n",
       "      <td>43.0</td>\n",
       "      <td>15.0</td>\n",
       "      <td>28.0</td>\n",
       "      <td>57</td>\n",
       "    </tr>\n",
       "    <tr>\n",
       "      <th>2</th>\n",
       "      <td>WAS</td>\n",
       "      <td>16</td>\n",
       "      <td>2</td>\n",
       "      <td>6</td>\n",
       "      <td>48.0</td>\n",
       "      <td>28.0</td>\n",
       "      <td>20.0</td>\n",
       "      <td>50</td>\n",
       "    </tr>\n",
       "    <tr>\n",
       "      <th>3</th>\n",
       "      <td>NJY</td>\n",
       "      <td>15</td>\n",
       "      <td>5</td>\n",
       "      <td>4</td>\n",
       "      <td>34.0</td>\n",
       "      <td>19.0</td>\n",
       "      <td>15.0</td>\n",
       "      <td>50</td>\n",
       "    </tr>\n",
       "    <tr>\n",
       "      <th>4</th>\n",
       "      <td>KC</td>\n",
       "      <td>14</td>\n",
       "      <td>7</td>\n",
       "      <td>3</td>\n",
       "      <td>50.0</td>\n",
       "      <td>29.0</td>\n",
       "      <td>21.0</td>\n",
       "      <td>49</td>\n",
       "    </tr>\n",
       "    <tr>\n",
       "      <th>5</th>\n",
       "      <td>NC</td>\n",
       "      <td>12</td>\n",
       "      <td>3</td>\n",
       "      <td>9</td>\n",
       "      <td>34.0</td>\n",
       "      <td>26.0</td>\n",
       "      <td>8.0</td>\n",
       "      <td>39</td>\n",
       "    </tr>\n",
       "    <tr>\n",
       "      <th>6</th>\n",
       "      <td>CHI</td>\n",
       "      <td>10</td>\n",
       "      <td>2</td>\n",
       "      <td>12</td>\n",
       "      <td>30.0</td>\n",
       "      <td>33.0</td>\n",
       "      <td>-3.0</td>\n",
       "      <td>32</td>\n",
       "    </tr>\n",
       "    <tr>\n",
       "      <th>7</th>\n",
       "      <td>POR</td>\n",
       "      <td>9</td>\n",
       "      <td>4</td>\n",
       "      <td>11</td>\n",
       "      <td>34.0</td>\n",
       "      <td>34.0</td>\n",
       "      <td>0.0</td>\n",
       "      <td>31</td>\n",
       "    </tr>\n",
       "    <tr>\n",
       "      <th>8</th>\n",
       "      <td>BFC</td>\n",
       "      <td>9</td>\n",
       "      <td>1</td>\n",
       "      <td>14</td>\n",
       "      <td>27.0</td>\n",
       "      <td>39.0</td>\n",
       "      <td>-12.0</td>\n",
       "      <td>28</td>\n",
       "    </tr>\n",
       "    <tr>\n",
       "      <th>9</th>\n",
       "      <td>LOU</td>\n",
       "      <td>6</td>\n",
       "      <td>7</td>\n",
       "      <td>11</td>\n",
       "      <td>31.0</td>\n",
       "      <td>36.0</td>\n",
       "      <td>-5.0</td>\n",
       "      <td>25</td>\n",
       "    </tr>\n",
       "    <tr>\n",
       "      <th>10</th>\n",
       "      <td>UTA</td>\n",
       "      <td>7</td>\n",
       "      <td>3</td>\n",
       "      <td>14</td>\n",
       "      <td>20.0</td>\n",
       "      <td>35.0</td>\n",
       "      <td>-15.0</td>\n",
       "      <td>24</td>\n",
       "    </tr>\n",
       "    <tr>\n",
       "      <th>11</th>\n",
       "      <td>LA</td>\n",
       "      <td>7</td>\n",
       "      <td>5</td>\n",
       "      <td>12</td>\n",
       "      <td>28.0</td>\n",
       "      <td>38.0</td>\n",
       "      <td>-10.0</td>\n",
       "      <td>23</td>\n",
       "    </tr>\n",
       "    <tr>\n",
       "      <th>12</th>\n",
       "      <td>SD</td>\n",
       "      <td>5</td>\n",
       "      <td>7</td>\n",
       "      <td>12</td>\n",
       "      <td>20.0</td>\n",
       "      <td>29.0</td>\n",
       "      <td>-9.0</td>\n",
       "      <td>22</td>\n",
       "    </tr>\n",
       "    <tr>\n",
       "      <th>13</th>\n",
       "      <td>RGN</td>\n",
       "      <td>5</td>\n",
       "      <td>5</td>\n",
       "      <td>14</td>\n",
       "      <td>23.0</td>\n",
       "      <td>40.0</td>\n",
       "      <td>-17.0</td>\n",
       "      <td>20</td>\n",
       "    </tr>\n",
       "    <tr>\n",
       "      <th>14</th>\n",
       "      <td>HOU</td>\n",
       "      <td>5</td>\n",
       "      <td>5</td>\n",
       "      <td>14</td>\n",
       "      <td>16.0</td>\n",
       "      <td>37.0</td>\n",
       "      <td>-21.0</td>\n",
       "      <td>20</td>\n",
       "    </tr>\n",
       "  </tbody>\n",
       "</table>\n",
       "</div>"
      ],
      "text/plain": [
       "   team  wins  draws  losses  goals_for  goals_against  goals_diff  points\n",
       "1   ORL    17      6       1       43.0           15.0        28.0      57\n",
       "2   WAS    16      2       6       48.0           28.0        20.0      50\n",
       "3   NJY    15      5       4       34.0           19.0        15.0      50\n",
       "4    KC    14      7       3       50.0           29.0        21.0      49\n",
       "5    NC    12      3       9       34.0           26.0         8.0      39\n",
       "6   CHI    10      2      12       30.0           33.0        -3.0      32\n",
       "7   POR     9      4      11       34.0           34.0         0.0      31\n",
       "8   BFC     9      1      14       27.0           39.0       -12.0      28\n",
       "9   LOU     6      7      11       31.0           36.0        -5.0      25\n",
       "10  UTA     7      3      14       20.0           35.0       -15.0      24\n",
       "11   LA     7      5      12       28.0           38.0       -10.0      23\n",
       "12   SD     5      7      12       20.0           29.0        -9.0      22\n",
       "13  RGN     5      5      14       23.0           40.0       -17.0      20\n",
       "14  HOU     5      5      14       16.0           37.0       -21.0      20"
      ]
     },
     "execution_count": 2,
     "metadata": {},
     "output_type": "execute_result"
    }
   ],
   "source": [
    "df = pd.read_csv(\"data/2024.csv\")\n",
    "df[\"season\"] = \"2024\"\n",
    "teams = list(df[\"home\"].unique())\n",
    "Data.get_nwsl_standings(df)"
   ]
  },
  {
   "cell_type": "code",
   "execution_count": 3,
   "metadata": {},
   "outputs": [
    {
     "data": {
      "text/plain": [
       "4"
      ]
     },
     "execution_count": 3,
     "metadata": {},
     "output_type": "execute_result"
    }
   ],
   "source": [
    "g = Playoffs.calc_games_matrix(df, teams)\n",
    "p0 = Playoffs.calc_initial_points(df, teams)\n",
    "Playoffs.calculate_lowest_finish(\"ORL\", teams, g, p0)"
   ]
  },
  {
   "cell_type": "code",
   "execution_count": 4,
   "metadata": {},
   "outputs": [
    {
     "data": {
      "text/plain": [
       "5"
      ]
     },
     "execution_count": 4,
     "metadata": {},
     "output_type": "execute_result"
    }
   ],
   "source": [
    "g = Playoffs.calc_games_matrix(df, teams)\n",
    "p0 = Playoffs.calc_initial_points(df, teams)\n",
    "Playoffs.calculate_lowest_finish(\"WAS\", teams, g, p0)"
   ]
  },
  {
   "cell_type": "code",
   "execution_count": 5,
   "metadata": {},
   "outputs": [
    {
     "data": {
      "text/plain": [
       "5"
      ]
     },
     "execution_count": 5,
     "metadata": {},
     "output_type": "execute_result"
    }
   ],
   "source": [
    "g = Playoffs.calc_games_matrix(df, teams)\n",
    "p0 = Playoffs.calc_initial_points(df, teams)\n",
    "Playoffs.calculate_lowest_finish(\"KC\", teams, g, p0)"
   ]
  },
  {
   "cell_type": "code",
   "execution_count": 6,
   "metadata": {},
   "outputs": [
    {
     "data": {
      "text/plain": [
       "6"
      ]
     },
     "execution_count": 6,
     "metadata": {},
     "output_type": "execute_result"
    }
   ],
   "source": [
    "g = Playoffs.calc_games_matrix(df, teams)\n",
    "p0 = Playoffs.calc_initial_points(df, teams)\n",
    "Playoffs.calculate_highest_finish(\"HOU\", teams, g, p0)"
   ]
  },
  {
   "cell_type": "code",
   "execution_count": 4,
   "metadata": {},
   "outputs": [],
   "source": [
    "lookforward = 7\n",
    "start = min(df.index[df[\"home_score\"].isna()])\n",
    "outcomes = list([(0, 0), (1, 0), (0, 1)])"
   ]
  },
  {
   "cell_type": "code",
   "execution_count": 5,
   "metadata": {},
   "outputs": [],
   "source": [
    "options = []\n",
    "for i in range(lookforward):\n",
    "    for outcome in outcomes:\n",
    "        options.append((i, outcome))\n",
    "\n",
    "\n",
    "# Summarize the scenarios into something meaningful\n",
    "def format_result(i, outcome):\n",
    "    match = df.iloc[start + i]\n",
    "    return f\"{match['home']} {outcome[0]} - {match['away']} {outcome[1]}\"\n",
    "\n",
    "\n",
    "def summarize(df_results):\n",
    "    scenarios = df_results.copy()\n",
    "\n",
    "    # Check if all values are true\n",
    "    if sum(scenarios[\"clinched\"]) == len(scenarios.index):\n",
    "        print(\"Clinched independent of results\")\n",
    "        return\n",
    "\n",
    "    # Check single game criteria\n",
    "    for (g1, o1) in options:\n",
    "        subset = scenarios[scenarios[g1] == o1]\n",
    "        if sum(subset[\"clinched\"]) == len(subset.index):\n",
    "            print(\"Clinched with\", format_result(g1, o1))\n",
    "            scenarios = scenarios[~(scenarios[g1] == o1)]\n",
    "\n",
    "    # Check two game criteria\n",
    "    for ((g1, o1), (g2, o2)) in itertools.combinations(options, 2):\n",
    "        if g1 == g2:\n",
    "            continue\n",
    "        subset = scenarios[(scenarios[g1] == o1) & (scenarios[g2] == o2)]\n",
    "        if len(subset.index) == 0:\n",
    "            continue\n",
    "        if sum(subset[\"clinched\"]) == len(subset.index):\n",
    "            print(\"Clinched with\", format_result(g1, o1), \"and\", format_result(g2, o2))\n",
    "            scenarios = scenarios[~((scenarios[g1] == o1) & (scenarios[g2] == o2))]\n",
    "\n",
    "    # Check three game criteria\n",
    "    for ((g1, o1), (g2, o2), (g3, o3)) in itertools.combinations(options, 3):\n",
    "        if len(set([g1, g2, g3])) < 3:\n",
    "            continue\n",
    "        subset = scenarios[\n",
    "            (scenarios[g1] == o1) & (scenarios[g2] == o2) & (scenarios[g3] == o3)\n",
    "        ]\n",
    "        if len(subset.index) == 0:\n",
    "            continue\n",
    "        if sum(subset[\"clinched\"]) == len(subset.index):\n",
    "            print(\n",
    "                \"Clinched with\",\n",
    "                format_result(g1, o1),\n",
    "                \"and\",\n",
    "                format_result(g2, o2),\n",
    "                \"and\",\n",
    "                format_result(g3, o3),\n",
    "            )\n",
    "            scenarios = scenarios[\n",
    "                ~((scenarios[g1] == o1) & (scenarios[g2] == o2) & (scenarios[g3] == o3))\n",
    "            ]\n",
    "\n",
    "    # Check four game criteria\n",
    "    for ((g1, o1), (g2, o2), (g3, o3), (g4, o4)) in itertools.combinations(options, 4):\n",
    "        if len(set([g1, g2, g3, g4])) < 4:\n",
    "            continue\n",
    "        subset = scenarios[\n",
    "            (scenarios[g1] == o1)\n",
    "            & (scenarios[g2] == o2)\n",
    "            & (scenarios[g3] == o3)\n",
    "            & (scenarios[g4] == o4)\n",
    "        ]\n",
    "        if len(subset.index) == 0:\n",
    "            continue\n",
    "        if sum(subset[\"clinched\"]) == len(subset.index):\n",
    "            print(\n",
    "                \"Clinched with\",\n",
    "                format_result(g1, o1),\n",
    "                \"and\",\n",
    "                format_result(g2, o2),\n",
    "                \"and\",\n",
    "                format_result(g3, o3),\n",
    "                \"and\",\n",
    "                format_result(g4, o4),\n",
    "            )\n",
    "            scenarios = scenarios[\n",
    "                ~(\n",
    "                    (scenarios[g1] == o1)\n",
    "                    & (scenarios[g2] == o2)\n",
    "                    & (scenarios[g3] == o3)\n",
    "                    & (scenarios[g4] == o4)\n",
    "                )\n",
    "            ]\n",
    "\n",
    "    # Check five game criteria\n",
    "    for ((g1, o1), (g2, o2), (g3, o3), (g4, o4), (g5, o5)) in itertools.combinations(\n",
    "        options, 5\n",
    "    ):\n",
    "        if len(set([g1, g2, g3, g4, g5])) < 5:\n",
    "            continue\n",
    "        subset = scenarios[\n",
    "            (scenarios[g1] == o1)\n",
    "            & (scenarios[g2] == o2)\n",
    "            & (scenarios[g3] == o3)\n",
    "            & (scenarios[g4] == o4)\n",
    "            & (scenarios[g5] == o5)\n",
    "        ]\n",
    "        if len(subset.index) == 0:\n",
    "            continue\n",
    "        if sum(subset[\"clinched\"]) == len(subset.index):\n",
    "            print(\n",
    "                \"Clinched with\",\n",
    "                format_result(g1, o1),\n",
    "                \"and\",\n",
    "                format_result(g2, o2),\n",
    "                \"and\",\n",
    "                format_result(g3, o3),\n",
    "                \"and\",\n",
    "                format_result(g4, o4),\n",
    "                \"and\",\n",
    "                format_result(g5, o5),\n",
    "            )\n",
    "            scenarios = scenarios[\n",
    "                ~(\n",
    "                    (scenarios[g1] == o1)\n",
    "                    & (scenarios[g2] == o2)\n",
    "                    & (scenarios[g3] == o3)\n",
    "                    & (scenarios[g4] == o4)\n",
    "                    & (scenarios[g5] == o5)\n",
    "                )\n",
    "            ]\n",
    "\n",
    "    # Check six game criteria\n",
    "    for (\n",
    "        (g1, o1),\n",
    "        (g2, o2),\n",
    "        (g3, o3),\n",
    "        (g4, o4),\n",
    "        (g5, o5),\n",
    "        (g6, o6),\n",
    "    ) in itertools.combinations(options, 6):\n",
    "        if len(set([g1, g2, g3, g4, g5, g6])) < 6:\n",
    "            continue\n",
    "        subset = scenarios[\n",
    "            (scenarios[g1] == o1)\n",
    "            & (scenarios[g2] == o2)\n",
    "            & (scenarios[g3] == o3)\n",
    "            & (scenarios[g4] == o4)\n",
    "            & (scenarios[g5] == o5)\n",
    "            & (scenarios[g6] == o6)\n",
    "        ]\n",
    "        if len(subset.index) == 0:\n",
    "            continue\n",
    "        if sum(subset[\"clinched\"]) == len(subset.index):\n",
    "            print(\n",
    "                \"Clinched with\",\n",
    "                format_result(g1, o1),\n",
    "                \"and\",\n",
    "                format_result(g2, o2),\n",
    "                \"and\",\n",
    "                format_result(g3, o3),\n",
    "                \"and\",\n",
    "                format_result(g4, o4),\n",
    "                \"and\",\n",
    "                format_result(g5, o5),\n",
    "                \"and\",\n",
    "                format_result(g6, o6),\n",
    "            )\n",
    "            scenarios = scenarios[\n",
    "                ~(\n",
    "                    (scenarios[g1] == o1)\n",
    "                    & (scenarios[g2] == o2)\n",
    "                    & (scenarios[g3] == o3)\n",
    "                    & (scenarios[g4] == o4)\n",
    "                    & (scenarios[g5] == o5)\n",
    "                    & (scenarios[g6] == o6)\n",
    "                )\n",
    "            ]"
   ]
  },
  {
   "cell_type": "code",
   "execution_count": 6,
   "metadata": {},
   "outputs": [],
   "source": [
    "# Calculate all scenarios for the following week and whether a specific team\n",
    "# has clinched a playoff spot\n",
    "def evaluate_scenarios(team, threshold):\n",
    "    df_copy = df.copy()\n",
    "\n",
    "    df_copy.loc[start : start + (lookforward - 1), \"home_score\"] = [0] * lookforward\n",
    "    df_copy.loc[start : start + (lookforward - 1), \"away_score\"] = [0] * lookforward\n",
    "\n",
    "    p0 = Playoffs.calc_initial_points(df, teams)\n",
    "    g = Playoffs.calc_games_matrix(df_copy, teams)\n",
    "\n",
    "    subset = df_copy.loc[start : start + (lookforward - 1)]\n",
    "\n",
    "    def calculate_clinch(row):\n",
    "        subset[\"home_score\"] = list(row.str[0])\n",
    "        subset[\"away_score\"] = list(row.str[1])\n",
    "        return (\n",
    "            Playoffs.calculate_lowest_finish(\n",
    "                team, teams, g, list(map(add, p0, Playoffs.calc_initial_points(subset, teams, True)))\n",
    "            )\n",
    "            <= threshold\n",
    "        )\n",
    "\n",
    "    scenarios = pd.DataFrame(itertools.product(outcomes, repeat=lookforward))\n",
    "    scenarios[\"clinched\"] = scenarios.apply(calculate_clinch, axis=1)\n",
    "    return scenarios"
   ]
  },
  {
   "cell_type": "code",
   "execution_count": 7,
   "metadata": {},
   "outputs": [],
   "source": [
    "# Calculate all scenarios for the following week and whether a specific team\n",
    "# has been eliminated from the playoffs\n",
    "def evaluate_elimination_scenarios(team, threshold):\n",
    "    df_copy = df.copy()\n",
    "\n",
    "    df_copy.loc[start : start + (lookforward - 1), \"home_score\"] = [0] * lookforward\n",
    "    df_copy.loc[start : start + (lookforward - 1), \"away_score\"] = [0] * lookforward\n",
    "\n",
    "    p0 = Playoffs.calc_initial_points(df, teams)\n",
    "    g = Playoffs.calc_games_matrix(df_copy, teams)\n",
    "\n",
    "    subset = df_copy.loc[start : start + (lookforward - 1)]\n",
    "\n",
    "    def calculate_clinch(row):\n",
    "        subset[\"home_score\"] = list(row.str[0])\n",
    "        subset[\"away_score\"] = list(row.str[1])\n",
    "        return (\n",
    "            Playoffs.calculate_highest_finish(\n",
    "                team, teams, g, list(map(add, p0, Playoffs.calc_initial_points(subset, teams, True)))\n",
    "            )\n",
    "            > threshold\n",
    "        )\n",
    "\n",
    "    scenarios = pd.DataFrame(itertools.product(outcomes, repeat=lookforward))\n",
    "    scenarios[\"clinched\"] = scenarios.apply(calculate_clinch, axis=1)\n",
    "    return scenarios"
   ]
  },
  {
   "cell_type": "markdown",
   "metadata": {},
   "source": [
    "## Clinching playoffs\n",
    "\n",
    "Already clinched: ORL, WAS, KC, NJY, NC, CHI"
   ]
  },
  {
   "cell_type": "code",
   "execution_count": 9,
   "metadata": {},
   "outputs": [
    {
     "name": "stdout",
     "output_type": "stream",
     "text": [
      "Clinched with LOU 0 - POR 0\n",
      "Clinched with LOU 0 - POR 1\n"
     ]
    }
   ],
   "source": [
    "summarize(evaluate_scenarios(\"POR\", 8))"
   ]
  },
  {
   "cell_type": "code",
   "execution_count": 10,
   "metadata": {},
   "outputs": [
    {
     "name": "stdout",
     "output_type": "stream",
     "text": [
      "Clinched with LOU 0 - POR 0 and BFC 1 - NC 0\n",
      "Clinched with LOU 0 - POR 1 and BFC 1 - NC 0\n",
      "Clinched with LOU 0 - POR 1 and BFC 0 - NC 0 and LA 0 - UTA 0\n"
     ]
    }
   ],
   "source": [
    "summarize(evaluate_scenarios(\"BFC\", 8))"
   ]
  },
  {
   "cell_type": "code",
   "execution_count": 11,
   "metadata": {},
   "outputs": [],
   "source": [
    "summarize(evaluate_scenarios(\"LOU\", 8))"
   ]
  },
  {
   "cell_type": "markdown",
   "metadata": {},
   "source": [
    "## Clinching hosting\n",
    "\n",
    "Already clinched: ORL, WAS, KC, NJY"
   ]
  },
  {
   "cell_type": "code",
   "execution_count": 10,
   "metadata": {},
   "outputs": [
    {
     "name": "stdout",
     "output_type": "stream",
     "text": [
      "Clinched with NC 0 - LA 0\n",
      "Clinched with NC 0 - LA 1\n",
      "Clinched with WAS 0 - LOU 0\n",
      "Clinched with WAS 1 - LOU 0\n"
     ]
    }
   ],
   "source": [
    "summarize(evaluate_scenarios(\"WAS\", 4))"
   ]
  },
  {
   "cell_type": "code",
   "execution_count": 11,
   "metadata": {},
   "outputs": [
    {
     "name": "stdout",
     "output_type": "stream",
     "text": [
      "Clinched with NC 0 - LA 0\n",
      "Clinched with NC 0 - LA 1\n",
      "Clinched with BFC 0 - KC 1\n"
     ]
    }
   ],
   "source": [
    "summarize(evaluate_scenarios(\"KC\", 4))"
   ]
  },
  {
   "cell_type": "code",
   "execution_count": 12,
   "metadata": {},
   "outputs": [
    {
     "name": "stdout",
     "output_type": "stream",
     "text": [
      "Clinched with CHI 0 - NJY 0\n",
      "Clinched with CHI 0 - NJY 1\n",
      "Clinched with NC 0 - LA 0\n",
      "Clinched with NC 0 - LA 1\n"
     ]
    }
   ],
   "source": [
    "summarize(evaluate_scenarios(\"NJY\", 4))"
   ]
  },
  {
   "cell_type": "markdown",
   "metadata": {},
   "source": [
    "## Clinching shield\n",
    "\n",
    "Already clinched: ORL"
   ]
  },
  {
   "cell_type": "code",
   "execution_count": 13,
   "metadata": {},
   "outputs": [
    {
     "name": "stdout",
     "output_type": "stream",
     "text": [
      "Clinched independent of results\n"
     ]
    }
   ],
   "source": [
    "summarize(evaluate_scenarios(\"ORL\", 1))"
   ]
  },
  {
   "cell_type": "markdown",
   "metadata": {},
   "source": [
    "## Eliminated from playoffs\n",
    "Already eliminated: HOU, RGN"
   ]
  },
  {
   "cell_type": "code",
   "execution_count": 12,
   "metadata": {},
   "outputs": [
    {
     "name": "stdout",
     "output_type": "stream",
     "text": [
      "Clinched with BFC 1 - NC 0\n",
      "Clinched with LA 1 - UTA 0\n",
      "Clinched with BFC 0 - NC 0 and LA 0 - UTA 0\n"
     ]
    }
   ],
   "source": [
    "summarize(evaluate_elimination_scenarios(\"UTA\", 8))"
   ]
  },
  {
   "cell_type": "code",
   "execution_count": 13,
   "metadata": {},
   "outputs": [
    {
     "name": "stdout",
     "output_type": "stream",
     "text": [
      "Clinched with BFC 1 - NC 0\n",
      "Clinched with LA 0 - UTA 0\n",
      "Clinched with LA 0 - UTA 1\n"
     ]
    }
   ],
   "source": [
    "summarize(evaluate_elimination_scenarios(\"LA\", 8))"
   ]
  },
  {
   "cell_type": "code",
   "execution_count": 14,
   "metadata": {},
   "outputs": [
    {
     "name": "stdout",
     "output_type": "stream",
     "text": [
      "Clinched with KC 0 - SD 0\n",
      "Clinched with KC 1 - SD 0\n",
      "Clinched with BFC 0 - NC 0\n",
      "Clinched with BFC 1 - NC 0\n"
     ]
    }
   ],
   "source": [
    "summarize(evaluate_elimination_scenarios(\"SD\", 8))"
   ]
  },
  {
   "cell_type": "code",
   "execution_count": 15,
   "metadata": {},
   "outputs": [
    {
     "name": "stdout",
     "output_type": "stream",
     "text": [
      "Clinched with LOU 0 - POR 0 and BFC 1 - NC 0\n",
      "Clinched with LOU 0 - POR 1 and BFC 0 - NC 0\n",
      "Clinched with LOU 0 - POR 1 and BFC 1 - NC 0\n"
     ]
    }
   ],
   "source": [
    "summarize(evaluate_elimination_scenarios(\"LOU\", 8))"
   ]
  },
  {
   "cell_type": "code",
   "execution_count": 16,
   "metadata": {},
   "outputs": [],
   "source": [
    "summarize(evaluate_elimination_scenarios(\"BFC\", 8))"
   ]
  },
  {
   "cell_type": "markdown",
   "metadata": {},
   "source": [
    "## Eliminated from hosting\n",
    "Already eliminated: HOU, UTA, RGN, LA, SD, LOU, BAY, POR, CHI"
   ]
  },
  {
   "cell_type": "code",
   "execution_count": 18,
   "metadata": {},
   "outputs": [
    {
     "name": "stdout",
     "output_type": "stream",
     "text": [
      "Clinched with NC 0 - LA 0\n",
      "Clinched with NC 0 - LA 1\n",
      "Clinched with CHI 0 - NJY 0 and BFC 0 - KC 1 and WAS 0 - LOU 0\n",
      "Clinched with CHI 0 - NJY 0 and BFC 0 - KC 1 and WAS 1 - LOU 0\n",
      "Clinched with CHI 0 - NJY 1 and BFC 0 - KC 1 and WAS 0 - LOU 0\n",
      "Clinched with CHI 0 - NJY 1 and BFC 0 - KC 1 and WAS 1 - LOU 0\n"
     ]
    }
   ],
   "source": [
    "summarize(evaluate_elimination_scenarios(\"NC\", 4))"
   ]
  },
  {
   "cell_type": "markdown",
   "metadata": {},
   "source": [
    "## Eliminated from shield\n",
    "Already eliminated: everyone but ORL"
   ]
  },
  {
   "cell_type": "code",
   "execution_count": 22,
   "metadata": {},
   "outputs": [
    {
     "name": "stdout",
     "output_type": "stream",
     "text": [
      "Clinched with LOU 0 - KC 0\n",
      "Clinched with LOU 1 - KC 0\n",
      "Clinched with ORL 1 - WAS 0\n"
     ]
    }
   ],
   "source": [
    "summarize(evaluate_elimination_scenarios(\"KC\", 1))"
   ]
  },
  {
   "cell_type": "code",
   "execution_count": 23,
   "metadata": {},
   "outputs": [
    {
     "name": "stdout",
     "output_type": "stream",
     "text": [
      "Clinched with NJY 0 - BFC 1\n",
      "Clinched with ORL 1 - WAS 0\n",
      "Clinched with NJY 0 - BFC 0 and ORL 0 - WAS 0\n"
     ]
    }
   ],
   "source": [
    "summarize(evaluate_elimination_scenarios(\"NJY\", 1))"
   ]
  },
  {
   "cell_type": "code",
   "execution_count": 24,
   "metadata": {},
   "outputs": [
    {
     "name": "stdout",
     "output_type": "stream",
     "text": [
      "Clinched with ORL 1 - WAS 0\n"
     ]
    }
   ],
   "source": [
    "summarize(evaluate_elimination_scenarios(\"WAS\", 1))"
   ]
  },
  {
   "cell_type": "code",
   "execution_count": 20,
   "metadata": {},
   "outputs": [
    {
     "name": "stdout",
     "output_type": "stream",
     "text": [
      "KC can finish: 2 - 4\n",
      "LOU can finish: 7 - 13\n",
      "UTA can finish: 8 - 14\n",
      "NC can finish: 5 - 5\n",
      "RGN can finish: 9 - 14\n",
      "LA can finish: 8 - 14\n",
      "ORL can finish: 1 - 1\n",
      "CHI can finish: 6 - 8\n",
      "WAS can finish: 2 - 4\n",
      "SD can finish: 8 - 14\n",
      "HOU can finish: 9 - 14\n",
      "POR can finish: 6 - 9\n",
      "BFC can finish: 6 - 11\n",
      "NJY can finish: 2 - 4\n"
     ]
    }
   ],
   "source": [
    "g = Playoffs.calc_games_matrix(df, teams)\n",
    "p0 = Playoffs.calc_initial_points(df, teams)\n",
    "\n",
    "for team in teams:\n",
    "    print(\n",
    "        team,\n",
    "        \"can finish:\",\n",
    "        Playoffs.calculate_highest_finish(team, teams, g, p0),\n",
    "        \"-\",\n",
    "        Playoffs.calculate_lowest_finish(team, teams, g, p0),\n",
    "    )"
   ]
  },
  {
   "cell_type": "code",
   "execution_count": null,
   "metadata": {},
   "outputs": [],
   "source": []
  }
 ],
 "metadata": {
  "kernelspec": {
   "display_name": "Python 3",
   "language": "python",
   "name": "python3"
  },
  "language_info": {
   "codemirror_mode": {
    "name": "ipython",
    "version": 3
   },
   "file_extension": ".py",
   "mimetype": "text/x-python",
   "name": "python",
   "nbconvert_exporter": "python",
   "pygments_lexer": "ipython3",
   "version": "3.8.10"
  }
 },
 "nbformat": 4,
 "nbformat_minor": 4
}
