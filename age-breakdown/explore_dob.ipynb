{
 "cells": [
  {
   "cell_type": "code",
   "execution_count": 21,
   "metadata": {},
   "outputs": [],
   "source": [
    "import pandas as pd\n",
    "import matplotlib.pyplot as plt"
   ]
  },
  {
   "cell_type": "code",
   "execution_count": 11,
   "metadata": {},
   "outputs": [
    {
     "data": {
      "text/html": [
       "<div>\n",
       "<style scoped>\n",
       "    .dataframe tbody tr th:only-of-type {\n",
       "        vertical-align: middle;\n",
       "    }\n",
       "\n",
       "    .dataframe tbody tr th {\n",
       "        vertical-align: top;\n",
       "    }\n",
       "\n",
       "    .dataframe thead th {\n",
       "        text-align: right;\n",
       "    }\n",
       "</style>\n",
       "<table border=\"1\" class=\"dataframe\">\n",
       "  <thead>\n",
       "    <tr style=\"text-align: right;\">\n",
       "      <th></th>\n",
       "      <th>name</th>\n",
       "      <th>year</th>\n",
       "      <th>minutes</th>\n",
       "      <th>dob</th>\n",
       "    </tr>\n",
       "  </thead>\n",
       "  <tbody>\n",
       "    <tr>\n",
       "      <th>0</th>\n",
       "      <td>Abby Elinsky</td>\n",
       "      <td>2020 Fall Series</td>\n",
       "      <td>291.0</td>\n",
       "      <td>1996-01-08</td>\n",
       "    </tr>\n",
       "    <tr>\n",
       "      <th>1</th>\n",
       "      <td>Abby Elinsky</td>\n",
       "      <td>2019</td>\n",
       "      <td>548.0</td>\n",
       "      <td>1996-01-08</td>\n",
       "    </tr>\n",
       "    <tr>\n",
       "      <th>2</th>\n",
       "      <td>Abby Elinsky</td>\n",
       "      <td>2018</td>\n",
       "      <td>32.0</td>\n",
       "      <td>1996-01-08</td>\n",
       "    </tr>\n",
       "    <tr>\n",
       "      <th>3</th>\n",
       "      <td>Alex Chidiac</td>\n",
       "      <td>2022</td>\n",
       "      <td>960.0</td>\n",
       "      <td>1999-01-15</td>\n",
       "    </tr>\n",
       "    <tr>\n",
       "      <th>4</th>\n",
       "      <td>Andressinha</td>\n",
       "      <td>2019</td>\n",
       "      <td>438.0</td>\n",
       "      <td>1995-05-01</td>\n",
       "    </tr>\n",
       "    <tr>\n",
       "      <th>...</th>\n",
       "      <td>...</td>\n",
       "      <td>...</td>\n",
       "      <td>...</td>\n",
       "      <td>...</td>\n",
       "    </tr>\n",
       "    <tr>\n",
       "      <th>2190</th>\n",
       "      <td>Zoey Goralski</td>\n",
       "      <td>2020 Challenge Cup</td>\n",
       "      <td>253.0</td>\n",
       "      <td>1995-01-22</td>\n",
       "    </tr>\n",
       "    <tr>\n",
       "      <th>2191</th>\n",
       "      <td>Zoey Goralski</td>\n",
       "      <td>2019</td>\n",
       "      <td>59.0</td>\n",
       "      <td>1995-01-22</td>\n",
       "    </tr>\n",
       "    <tr>\n",
       "      <th>2192</th>\n",
       "      <td>Évelyne Viens</td>\n",
       "      <td>2021</td>\n",
       "      <td>321.0</td>\n",
       "      <td>1997-02-06</td>\n",
       "    </tr>\n",
       "    <tr>\n",
       "      <th>2193</th>\n",
       "      <td>Évelyne Viens</td>\n",
       "      <td>2021 Challenge Cup</td>\n",
       "      <td>39.0</td>\n",
       "      <td>1997-02-06</td>\n",
       "    </tr>\n",
       "    <tr>\n",
       "      <th>2194</th>\n",
       "      <td>Évelyne Viens</td>\n",
       "      <td>2020 Challenge Cup</td>\n",
       "      <td>137.0</td>\n",
       "      <td>1997-02-06</td>\n",
       "    </tr>\n",
       "  </tbody>\n",
       "</table>\n",
       "<p>2195 rows × 4 columns</p>\n",
       "</div>"
      ],
      "text/plain": [
       "               name                year  minutes         dob\n",
       "0      Abby Elinsky    2020 Fall Series    291.0  1996-01-08\n",
       "1      Abby Elinsky                2019    548.0  1996-01-08\n",
       "2      Abby Elinsky                2018     32.0  1996-01-08\n",
       "3      Alex Chidiac                2022    960.0  1999-01-15\n",
       "4       Andressinha                2019    438.0  1995-05-01\n",
       "...             ...                 ...      ...         ...\n",
       "2190  Zoey Goralski  2020 Challenge Cup    253.0  1995-01-22\n",
       "2191  Zoey Goralski                2019     59.0  1995-01-22\n",
       "2192  Évelyne Viens                2021    321.0  1997-02-06\n",
       "2193  Évelyne Viens  2021 Challenge Cup     39.0  1997-02-06\n",
       "2194  Évelyne Viens  2020 Challenge Cup    137.0  1997-02-06\n",
       "\n",
       "[2195 rows x 4 columns]"
      ]
     },
     "execution_count": 11,
     "metadata": {},
     "output_type": "execute_result"
    }
   ],
   "source": [
    "df = pd.read_csv(\"dob_and_minutes.csv\")\n",
    "df"
   ]
  },
  {
   "cell_type": "code",
   "execution_count": 88,
   "metadata": {},
   "outputs": [
    {
     "data": {
      "text/html": [
       "<div>\n",
       "<style scoped>\n",
       "    .dataframe tbody tr th:only-of-type {\n",
       "        vertical-align: middle;\n",
       "    }\n",
       "\n",
       "    .dataframe tbody tr th {\n",
       "        vertical-align: top;\n",
       "    }\n",
       "\n",
       "    .dataframe thead th {\n",
       "        text-align: right;\n",
       "    }\n",
       "</style>\n",
       "<table border=\"1\" class=\"dataframe\">\n",
       "  <thead>\n",
       "    <tr style=\"text-align: right;\">\n",
       "      <th></th>\n",
       "      <th>name</th>\n",
       "      <th>year</th>\n",
       "      <th>minutes</th>\n",
       "      <th>dob</th>\n",
       "      <th>dob_month</th>\n",
       "      <th>dob_year</th>\n",
       "      <th>dob_day</th>\n",
       "    </tr>\n",
       "  </thead>\n",
       "  <tbody>\n",
       "    <tr>\n",
       "      <th>0</th>\n",
       "      <td>Abby Elinsky</td>\n",
       "      <td>2020 Fall Series</td>\n",
       "      <td>291.0</td>\n",
       "      <td>1996-01-08</td>\n",
       "      <td>1</td>\n",
       "      <td>1996</td>\n",
       "      <td>8</td>\n",
       "    </tr>\n",
       "    <tr>\n",
       "      <th>1</th>\n",
       "      <td>Abby Elinsky</td>\n",
       "      <td>2019</td>\n",
       "      <td>548.0</td>\n",
       "      <td>1996-01-08</td>\n",
       "      <td>1</td>\n",
       "      <td>1996</td>\n",
       "      <td>8</td>\n",
       "    </tr>\n",
       "    <tr>\n",
       "      <th>2</th>\n",
       "      <td>Abby Elinsky</td>\n",
       "      <td>2018</td>\n",
       "      <td>32.0</td>\n",
       "      <td>1996-01-08</td>\n",
       "      <td>1</td>\n",
       "      <td>1996</td>\n",
       "      <td>8</td>\n",
       "    </tr>\n",
       "    <tr>\n",
       "      <th>3</th>\n",
       "      <td>Alex Chidiac</td>\n",
       "      <td>2022</td>\n",
       "      <td>960.0</td>\n",
       "      <td>1999-01-15</td>\n",
       "      <td>1</td>\n",
       "      <td>1999</td>\n",
       "      <td>15</td>\n",
       "    </tr>\n",
       "    <tr>\n",
       "      <th>4</th>\n",
       "      <td>Andressinha</td>\n",
       "      <td>2019</td>\n",
       "      <td>438.0</td>\n",
       "      <td>1995-05-01</td>\n",
       "      <td>5</td>\n",
       "      <td>1995</td>\n",
       "      <td>1</td>\n",
       "    </tr>\n",
       "    <tr>\n",
       "      <th>...</th>\n",
       "      <td>...</td>\n",
       "      <td>...</td>\n",
       "      <td>...</td>\n",
       "      <td>...</td>\n",
       "      <td>...</td>\n",
       "      <td>...</td>\n",
       "      <td>...</td>\n",
       "    </tr>\n",
       "    <tr>\n",
       "      <th>2190</th>\n",
       "      <td>Zoey Goralski</td>\n",
       "      <td>2020 Challenge Cup</td>\n",
       "      <td>253.0</td>\n",
       "      <td>1995-01-22</td>\n",
       "      <td>1</td>\n",
       "      <td>1995</td>\n",
       "      <td>22</td>\n",
       "    </tr>\n",
       "    <tr>\n",
       "      <th>2191</th>\n",
       "      <td>Zoey Goralski</td>\n",
       "      <td>2019</td>\n",
       "      <td>59.0</td>\n",
       "      <td>1995-01-22</td>\n",
       "      <td>1</td>\n",
       "      <td>1995</td>\n",
       "      <td>22</td>\n",
       "    </tr>\n",
       "    <tr>\n",
       "      <th>2192</th>\n",
       "      <td>Évelyne Viens</td>\n",
       "      <td>2021</td>\n",
       "      <td>321.0</td>\n",
       "      <td>1997-02-06</td>\n",
       "      <td>2</td>\n",
       "      <td>1997</td>\n",
       "      <td>6</td>\n",
       "    </tr>\n",
       "    <tr>\n",
       "      <th>2193</th>\n",
       "      <td>Évelyne Viens</td>\n",
       "      <td>2021 Challenge Cup</td>\n",
       "      <td>39.0</td>\n",
       "      <td>1997-02-06</td>\n",
       "      <td>2</td>\n",
       "      <td>1997</td>\n",
       "      <td>6</td>\n",
       "    </tr>\n",
       "    <tr>\n",
       "      <th>2194</th>\n",
       "      <td>Évelyne Viens</td>\n",
       "      <td>2020 Challenge Cup</td>\n",
       "      <td>137.0</td>\n",
       "      <td>1997-02-06</td>\n",
       "      <td>2</td>\n",
       "      <td>1997</td>\n",
       "      <td>6</td>\n",
       "    </tr>\n",
       "  </tbody>\n",
       "</table>\n",
       "<p>2195 rows × 7 columns</p>\n",
       "</div>"
      ],
      "text/plain": [
       "               name                year  minutes        dob  dob_month  \\\n",
       "0      Abby Elinsky    2020 Fall Series    291.0 1996-01-08          1   \n",
       "1      Abby Elinsky                2019    548.0 1996-01-08          1   \n",
       "2      Abby Elinsky                2018     32.0 1996-01-08          1   \n",
       "3      Alex Chidiac                2022    960.0 1999-01-15          1   \n",
       "4       Andressinha                2019    438.0 1995-05-01          5   \n",
       "...             ...                 ...      ...        ...        ...   \n",
       "2190  Zoey Goralski  2020 Challenge Cup    253.0 1995-01-22          1   \n",
       "2191  Zoey Goralski                2019     59.0 1995-01-22          1   \n",
       "2192  Évelyne Viens                2021    321.0 1997-02-06          2   \n",
       "2193  Évelyne Viens  2021 Challenge Cup     39.0 1997-02-06          2   \n",
       "2194  Évelyne Viens  2020 Challenge Cup    137.0 1997-02-06          2   \n",
       "\n",
       "      dob_year  dob_day  \n",
       "0         1996        8  \n",
       "1         1996        8  \n",
       "2         1996        8  \n",
       "3         1999       15  \n",
       "4         1995        1  \n",
       "...        ...      ...  \n",
       "2190      1995       22  \n",
       "2191      1995       22  \n",
       "2192      1997        6  \n",
       "2193      1997        6  \n",
       "2194      1997        6  \n",
       "\n",
       "[2195 rows x 7 columns]"
      ]
     },
     "execution_count": 88,
     "metadata": {},
     "output_type": "execute_result"
    }
   ],
   "source": [
    "df[\"dob\"] = pd.to_datetime(df[\"dob\"])\n",
    "df[\"dob_day\"] = df[\"dob\"].dt.day\n",
    "df[\"dob_month\"] = df[\"dob\"].dt.month\n",
    "df[\"dob_year\"] = df[\"dob\"].dt.year\n",
    "df"
   ]
  },
  {
   "cell_type": "code",
   "execution_count": 75,
   "metadata": {},
   "outputs": [],
   "source": [
    "def plot_data(bucket, metric, year=None):\n",
    "    df_year = df if year == None else df[df[\"year\"] == year]\n",
    "    df_group = (\n",
    "        df_year.groupby(\"dob_\" + bucket)\n",
    "        .agg(count=(\"name\", \"count\"), minutes=(\"minutes\", \"sum\"))\n",
    "        .reset_index()\n",
    "    )\n",
    "    df_group[metric] = df_group[metric] / df_group[metric].sum()\n",
    "    \n",
    "    plt.bar(df_group[\"dob_\" + bucket], df_group[metric])\n",
    "    \n",
    "    if bucket == \"year\":\n",
    "        plt.xlim(df[\"dob_year\"].min(), df[\"dob_year\"].max())\n",
    "        \n",
    "    plt.ylim(0, 0.2)"
   ]
  },
  {
   "cell_type": "code",
   "execution_count": 76,
   "metadata": {},
   "outputs": [
    {
     "data": {
      "image/png": "[encoded data removed]",
      "text/plain": [
       "<Figure size 432x288 with 1 Axes>"
      ]
     },
     "metadata": {
      "needs_background": "light"
     },
     "output_type": "display_data"
    }
   ],
   "source": [
    "plot_data(\"month\", \"count\")"
   ]
  },
  {
   "cell_type": "code",
   "execution_count": 89,
   "metadata": {},
   "outputs": [
    {
     "data": {
      "image/png": "[encoded data removed]",
      "text/plain": [
       "<Figure size 432x288 with 1 Axes>"
      ]
     },
     "metadata": {
      "needs_background": "light"
     },
     "output_type": "display_data"
    }
   ],
   "source": [
    "plot_data(\"day\", \"count\")"
   ]
  },
  {
   "cell_type": "code",
   "execution_count": 78,
   "metadata": {},
   "outputs": [
    {
     "data": {
      "image/png": "[encoded data removed]",
      "text/plain": [
       "<Figure size 432x288 with 1 Axes>"
      ]
     },
     "metadata": {
      "needs_background": "light"
     },
     "output_type": "display_data"
    }
   ],
   "source": [
    "plot_data(\"year\", \"count\")"
   ]
  },
  {
   "cell_type": "code",
   "execution_count": 87,
   "metadata": {},
   "outputs": [
    {
     "data": {
      "image/png": "[encoded data removed]",
      "text/plain": [
       "<Figure size 432x288 with 1 Axes>"
      ]
     },
     "metadata": {
      "needs_background": "light"
     },
     "output_type": "display_data"
    }
   ],
   "source": [
    "plot_data(\"year\", \"minutes\", \"2022\")"
   ]
  },
  {
   "cell_type": "code",
   "execution_count": 86,
   "metadata": {},
   "outputs": [
    {
     "data": {
      "image/png": "[encoded data removed]",
      "text/plain": [
       "<Figure size 432x288 with 1 Axes>"
      ]
     },
     "metadata": {
      "needs_background": "light"
     },
     "output_type": "display_data"
    }
   ],
   "source": [
    "plot_data(\"year\", \"minutes\", \"2021\")"
   ]
  },
  {
   "cell_type": "code",
   "execution_count": 81,
   "metadata": {},
   "outputs": [
    {
     "data": {
      "image/png": "[encoded data removed]",
      "text/plain": [
       "<Figure size 432x288 with 1 Axes>"
      ]
     },
     "metadata": {
      "needs_background": "light"
     },
     "output_type": "display_data"
    }
   ],
   "source": [
    "plot_data(\"year\", \"minutes\", \"2019\")"
   ]
  },
  {
   "cell_type": "code",
   "execution_count": 85,
   "metadata": {},
   "outputs": [
    {
     "data": {
      "image/png": "[encoded data removed]",
      "text/plain": [
       "<Figure size 432x288 with 1 Axes>"
      ]
     },
     "metadata": {
      "needs_background": "light"
     },
     "output_type": "display_data"
    }
   ],
   "source": [
    "plot_data(\"year\", \"minutes\", \"2016\")"
   ]
  },
  {
   "cell_type": "code",
   "execution_count": null,
   "metadata": {},
   "outputs": [],
   "source": []
  }
 ],
 "metadata": {
  "kernelspec": {
   "display_name": "Python 3",
   "language": "python",
   "name": "python3"
  },
  "language_info": {
   "codemirror_mode": {
    "name": "ipython",
    "version": 3
   },
   "file_extension": ".py",
   "mimetype": "text/x-python",
   "name": "python",
   "nbconvert_exporter": "python",
   "pygments_lexer": "ipython3",
   "version": "3.8.2"
  }
 },
 "nbformat": 4,
 "nbformat_minor": 4
}
