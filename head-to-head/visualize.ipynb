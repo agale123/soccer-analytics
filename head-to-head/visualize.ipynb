{
 "cells": [
  {
   "cell_type": "code",
   "execution_count": 1,
   "metadata": {},
   "outputs": [],
   "source": [
    "from common import NWSL, Data, Colors, Fonts, Images, add_signature\n",
    "import pandas as pd\n",
    "import numpy as np\n",
    "import matplotlib.pyplot as plt"
   ]
  },
  {
   "cell_type": "code",
   "execution_count": 8,
   "metadata": {},
   "outputs": [],
   "source": [
    "def calc_result(row, team):\n",
    "    opp = \"away\" if team == \"home\" else \"home\"\n",
    "    if row[team + \"_score\"] > row[opp + \"_score\"]:\n",
    "        return \"W\"\n",
    "    elif row[team + \"_score\"] < row[opp + \"_score\"]:\n",
    "        return \"L\"\n",
    "    elif not row[\"is_playoffs\"]:\n",
    "        return \"D\"\n",
    "    elif row[team + \"_penalty_score\"] > row[opp + \"_penalty_score\"]:\n",
    "        return \"W\"\n",
    "    elif row[team + \"_penalty_score\"] < row[opp + \"_penalty_score\"]:\n",
    "        return \"L\"\n",
    "    else:\n",
    "        print(row)\n",
    "        raise Exception(\"Can't calculate score\")\n",
    "\n",
    "\n",
    "def get_results(season=None):\n",
    "    df = Data.get_nwsl_matches(season=season)\n",
    "\n",
    "    df[\"home_result\"] = df.apply(lambda r: calc_result(r, \"home\"), axis=1)\n",
    "    df[\"away_result\"] = df.apply(lambda r: calc_result(r, \"away\"), axis=1)\n",
    "\n",
    "    # Remove extra columns\n",
    "    df = df[[\"date\", \"home\", \"away\", \"home_result\", \"away_result\"]]\n",
    "\n",
    "    # Rename home and away to match\n",
    "    df = pd.concat(\n",
    "        [\n",
    "            df.rename(\n",
    "                columns={\"home\": \"team\", \"away\": \"opponent\", \"home_result\": \"result\"}\n",
    "            ),\n",
    "            df.rename(\n",
    "                columns={\"away\": \"team\", \"home\": \"opponent\", \"away_result\": \"result\"}\n",
    "            ),\n",
    "        ]\n",
    "    )[[\"date\", \"team\", \"opponent\", \"result\"]]\n",
    "\n",
    "    # Aggregate\n",
    "    df = (\n",
    "        df.groupby([\"team\", \"opponent\", \"result\"])\n",
    "        .agg(count=(\"date\", \"count\"))\n",
    "        .reset_index()\n",
    "    )\n",
    "    return df"
   ]
  },
  {
   "cell_type": "code",
   "execution_count": 9,
   "metadata": {},
   "outputs": [],
   "source": [
    "custom_dict = {\"W\": 0, \"D\": 1, \"L\": 3}\n",
    "\n",
    "\n",
    "def get_head_to_head(a, b, season=None):\n",
    "    df = get_results(season)\n",
    "    res = df[(df[\"team\"] == a) & (df[\"opponent\"] == b)].reset_index(drop=True)\n",
    "    for x in [\"W\", \"D\", \"L\"]:\n",
    "        if x not in list(res[\"result\"]):\n",
    "            res.loc[len(res.index)] = [a, b, x, 0]\n",
    "    res = res.sort_values(by=[\"result\"], key=lambda x: x.map(custom_dict))\n",
    "    \n",
    "    return res"
   ]
  },
  {
   "cell_type": "code",
   "execution_count": 10,
   "metadata": {},
   "outputs": [
    {
     "data": {
      "text/html": [
       "<div>\n",
       "<style scoped>\n",
       "    .dataframe tbody tr th:only-of-type {\n",
       "        vertical-align: middle;\n",
       "    }\n",
       "\n",
       "    .dataframe tbody tr th {\n",
       "        vertical-align: top;\n",
       "    }\n",
       "\n",
       "    .dataframe thead th {\n",
       "        text-align: right;\n",
       "    }\n",
       "</style>\n",
       "<table border=\"1\" class=\"dataframe\">\n",
       "  <thead>\n",
       "    <tr style=\"text-align: right;\">\n",
       "      <th></th>\n",
       "      <th>team</th>\n",
       "      <th>opponent</th>\n",
       "      <th>result</th>\n",
       "      <th>count</th>\n",
       "    </tr>\n",
       "  </thead>\n",
       "  <tbody>\n",
       "    <tr>\n",
       "      <th>2</th>\n",
       "      <td>WAS</td>\n",
       "      <td>GFC</td>\n",
       "      <td>W</td>\n",
       "      <td>17</td>\n",
       "    </tr>\n",
       "    <tr>\n",
       "      <th>0</th>\n",
       "      <td>WAS</td>\n",
       "      <td>GFC</td>\n",
       "      <td>D</td>\n",
       "      <td>8</td>\n",
       "    </tr>\n",
       "    <tr>\n",
       "      <th>1</th>\n",
       "      <td>WAS</td>\n",
       "      <td>GFC</td>\n",
       "      <td>L</td>\n",
       "      <td>13</td>\n",
       "    </tr>\n",
       "  </tbody>\n",
       "</table>\n",
       "</div>"
      ],
      "text/plain": [
       "  team opponent result  count\n",
       "2  WAS      GFC      W     17\n",
       "0  WAS      GFC      D      8\n",
       "1  WAS      GFC      L     13"
      ]
     },
     "execution_count": 10,
     "metadata": {},
     "output_type": "execute_result"
    }
   ],
   "source": [
    "get_head_to_head(\"WAS\", \"GFC\")"
   ]
  },
  {
   "cell_type": "code",
   "execution_count": 11,
   "metadata": {},
   "outputs": [
    {
     "data": {
      "text/html": [
       "<div>\n",
       "<style scoped>\n",
       "    .dataframe tbody tr th:only-of-type {\n",
       "        vertical-align: middle;\n",
       "    }\n",
       "\n",
       "    .dataframe tbody tr th {\n",
       "        vertical-align: top;\n",
       "    }\n",
       "\n",
       "    .dataframe thead th {\n",
       "        text-align: right;\n",
       "    }\n",
       "</style>\n",
       "<table border=\"1\" class=\"dataframe\">\n",
       "  <thead>\n",
       "    <tr style=\"text-align: right;\">\n",
       "      <th></th>\n",
       "      <th>team</th>\n",
       "      <th>opponent</th>\n",
       "      <th>result</th>\n",
       "      <th>count</th>\n",
       "    </tr>\n",
       "  </thead>\n",
       "  <tbody>\n",
       "    <tr>\n",
       "      <th>0</th>\n",
       "      <td>WAS</td>\n",
       "      <td>GFC</td>\n",
       "      <td>W</td>\n",
       "      <td>2</td>\n",
       "    </tr>\n",
       "    <tr>\n",
       "      <th>1</th>\n",
       "      <td>WAS</td>\n",
       "      <td>GFC</td>\n",
       "      <td>D</td>\n",
       "      <td>0</td>\n",
       "    </tr>\n",
       "    <tr>\n",
       "      <th>2</th>\n",
       "      <td>WAS</td>\n",
       "      <td>GFC</td>\n",
       "      <td>L</td>\n",
       "      <td>0</td>\n",
       "    </tr>\n",
       "  </tbody>\n",
       "</table>\n",
       "</div>"
      ],
      "text/plain": [
       "  team opponent result  count\n",
       "0  WAS      GFC      W      2\n",
       "1  WAS      GFC      D      0\n",
       "2  WAS      GFC      L      0"
      ]
     },
     "execution_count": 11,
     "metadata": {},
     "output_type": "execute_result"
    }
   ],
   "source": [
    "get_head_to_head(\"WAS\", \"GFC\", season=\"2024\")"
   ]
  },
  {
   "cell_type": "code",
   "execution_count": 12,
   "metadata": {},
   "outputs": [
    {
     "data": {
      "text/html": [
       "<div>\n",
       "<style scoped>\n",
       "    .dataframe tbody tr th:only-of-type {\n",
       "        vertical-align: middle;\n",
       "    }\n",
       "\n",
       "    .dataframe tbody tr th {\n",
       "        vertical-align: top;\n",
       "    }\n",
       "\n",
       "    .dataframe thead th {\n",
       "        text-align: right;\n",
       "    }\n",
       "</style>\n",
       "<table border=\"1\" class=\"dataframe\">\n",
       "  <thead>\n",
       "    <tr style=\"text-align: right;\">\n",
       "      <th></th>\n",
       "      <th>team</th>\n",
       "      <th>opponent</th>\n",
       "      <th>result</th>\n",
       "      <th>count</th>\n",
       "    </tr>\n",
       "  </thead>\n",
       "  <tbody>\n",
       "    <tr>\n",
       "      <th>2</th>\n",
       "      <td>ORL</td>\n",
       "      <td>KCC</td>\n",
       "      <td>W</td>\n",
       "      <td>3</td>\n",
       "    </tr>\n",
       "    <tr>\n",
       "      <th>0</th>\n",
       "      <td>ORL</td>\n",
       "      <td>KCC</td>\n",
       "      <td>D</td>\n",
       "      <td>3</td>\n",
       "    </tr>\n",
       "    <tr>\n",
       "      <th>1</th>\n",
       "      <td>ORL</td>\n",
       "      <td>KCC</td>\n",
       "      <td>L</td>\n",
       "      <td>2</td>\n",
       "    </tr>\n",
       "  </tbody>\n",
       "</table>\n",
       "</div>"
      ],
      "text/plain": [
       "  team opponent result  count\n",
       "2  ORL      KCC      W      3\n",
       "0  ORL      KCC      D      3\n",
       "1  ORL      KCC      L      2"
      ]
     },
     "execution_count": 12,
     "metadata": {},
     "output_type": "execute_result"
    }
   ],
   "source": [
    "get_head_to_head(\"ORL\", \"KCC\")"
   ]
  },
  {
   "cell_type": "code",
   "execution_count": 13,
   "metadata": {},
   "outputs": [
    {
     "data": {
      "text/html": [
       "<div>\n",
       "<style scoped>\n",
       "    .dataframe tbody tr th:only-of-type {\n",
       "        vertical-align: middle;\n",
       "    }\n",
       "\n",
       "    .dataframe tbody tr th {\n",
       "        vertical-align: top;\n",
       "    }\n",
       "\n",
       "    .dataframe thead th {\n",
       "        text-align: right;\n",
       "    }\n",
       "</style>\n",
       "<table border=\"1\" class=\"dataframe\">\n",
       "  <thead>\n",
       "    <tr style=\"text-align: right;\">\n",
       "      <th></th>\n",
       "      <th>team</th>\n",
       "      <th>opponent</th>\n",
       "      <th>result</th>\n",
       "      <th>count</th>\n",
       "    </tr>\n",
       "  </thead>\n",
       "  <tbody>\n",
       "    <tr>\n",
       "      <th>1</th>\n",
       "      <td>ORL</td>\n",
       "      <td>KCC</td>\n",
       "      <td>W</td>\n",
       "      <td>1</td>\n",
       "    </tr>\n",
       "    <tr>\n",
       "      <th>0</th>\n",
       "      <td>ORL</td>\n",
       "      <td>KCC</td>\n",
       "      <td>D</td>\n",
       "      <td>1</td>\n",
       "    </tr>\n",
       "    <tr>\n",
       "      <th>2</th>\n",
       "      <td>ORL</td>\n",
       "      <td>KCC</td>\n",
       "      <td>L</td>\n",
       "      <td>0</td>\n",
       "    </tr>\n",
       "  </tbody>\n",
       "</table>\n",
       "</div>"
      ],
      "text/plain": [
       "  team opponent result  count\n",
       "1  ORL      KCC      W      1\n",
       "0  ORL      KCC      D      1\n",
       "2  ORL      KCC      L      0"
      ]
     },
     "execution_count": 13,
     "metadata": {},
     "output_type": "execute_result"
    }
   ],
   "source": [
    "get_head_to_head(\"ORL\", \"KCC\", season=\"2024\")"
   ]
  },
  {
   "cell_type": "code",
   "execution_count": 16,
   "metadata": {},
   "outputs": [
    {
     "name": "stderr",
     "output_type": "stream",
     "text": [
      "<ipython-input-16-ae830efa41a3>:45: UserWarning: FixedFormatter should only be used together with FixedLocator\n",
      "  ax.set_xticklabels([NWSL.name(t1) + \"\\nWin\", \"Draw\", NWSL.name(t2) + \"\\nWin\"])\n"
     ]
    },
    {
     "data": {
      "text/plain": [
       "<Figure size 864x864 with 0 Axes>"
      ]
     },
     "metadata": {},
     "output_type": "display_data"
    },
    {
     "data": {
      "text/plain": [
       "<Figure size 3600x3600 with 0 Axes>"
      ]
     },
     "metadata": {},
     "output_type": "display_data"
    },
    {
     "data": {
      "image/png": "[encoded data removed]",
      "text/plain": [
       "<Figure size 864x864 with 1 Axes>"
      ]
     },
     "metadata": {
      "needs_background": "light"
     },
     "output_type": "display_data"
    }
   ],
   "source": [
    "def plot_head_to_head(t1, t2):\n",
    "    plt.clf()\n",
    "    plt.rcParams[\"figure.figsize\"] = (12, 12)\n",
    "    plt.figure(dpi=300)\n",
    "    fig, ax = plt.subplots()\n",
    "    \n",
    "    plt.rcParams[\"legend.handlelength\"] = 2 * 1\n",
    "    plt.rcParams[\"legend.handleheight\"] = 2 * 1.4\n",
    "\n",
    "    data = get_head_to_head(t1, t2)\n",
    "\n",
    "    for i, row in data.iterrows():\n",
    "        color = (\n",
    "            Colors.GRAY\n",
    "            if row[\"result\"] == \"D\"\n",
    "            else NWSL.color(row[\"team\"] if row[\"result\"] == \"W\" else row[\"opponent\"])\n",
    "        )\n",
    "        b = ax.bar(\n",
    "            row[\"result\"],\n",
    "            row[\"count\"],\n",
    "            edgecolor=color,\n",
    "            color=Colors.WHITE,\n",
    "            label=\"All Years\" if row[\"result\"] == \"D\" else None,\n",
    "        )\n",
    "        b[0].set_linewidth(5)\n",
    "\n",
    "    data_2023 = get_head_to_head(t1, t2, season=\"2024\")\n",
    "    for i, row in data_2023.iterrows():\n",
    "        color = (\n",
    "            Colors.GRAY\n",
    "            if row[\"result\"] == \"D\"\n",
    "            else NWSL.color(row[\"team\"] if row[\"result\"] == \"W\" else row[\"opponent\"])\n",
    "        )\n",
    "        b = ax.bar(\n",
    "            row[\"result\"],\n",
    "            row[\"count\"],\n",
    "            edgecolor=color,\n",
    "            color=color,\n",
    "            label=\"2024\" if row[\"result\"] == \"D\" else None,\n",
    "        )\n",
    "        b[0].set_linewidth(5)\n",
    "\n",
    "    ax.set_title(\"Head to Head Records\", fontproperties=Fonts.BARLOW, size=26)\n",
    "    ax.set_ylabel(\"Count\", fontproperties=Fonts.BARLOW, size=22)\n",
    "    ax.set_xticklabels([NWSL.name(t1) + \"\\nWin\", \"Draw\", NWSL.name(t2) + \"\\nWin\"])\n",
    "    ax.tick_params(axis=\"both\", which=\"major\", labelsize=16, length=0)\n",
    "    ax.spines[[\"top\", \"right\"]].set_visible(False)\n",
    "    ax.legend(\n",
    "        frameon=False, labelspacing=1.5, prop={\"size\": 16}, bbox_to_anchor=(1.2, 1)\n",
    "    )\n",
    "\n",
    "    \n",
    "\n",
    "    # Save image\n",
    "    plt.savefig(\n",
    "        \"head_to_head_togethxr_\" + t1 + \"_\" + t2 + \".png\",\n",
    "        bbox_inches=\"tight\",\n",
    "        pad_inches=0.5,\n",
    "        transparent=True,\n",
    "    )\n",
    "\n",
    "\n",
    "plot_head_to_head(\"WAS\", \"GFC\")"
   ]
  },
  {
   "cell_type": "code",
   "execution_count": 18,
   "metadata": {},
   "outputs": [
    {
     "name": "stderr",
     "output_type": "stream",
     "text": [
      "<ipython-input-16-ae830efa41a3>:45: UserWarning: FixedFormatter should only be used together with FixedLocator\n",
      "  ax.set_xticklabels([NWSL.name(t1) + \"\\nWin\", \"Draw\", NWSL.name(t2) + \"\\nWin\"])\n"
     ]
    },
    {
     "data": {
      "text/plain": [
       "<Figure size 864x864 with 0 Axes>"
      ]
     },
     "metadata": {},
     "output_type": "display_data"
    },
    {
     "data": {
      "text/plain": [
       "<Figure size 3600x3600 with 0 Axes>"
      ]
     },
     "metadata": {},
     "output_type": "display_data"
    },
    {
     "data": {
      "image/png": "[encoded data removed]",
      "text/plain": [
       "<Figure size 864x864 with 1 Axes>"
      ]
     },
     "metadata": {
      "needs_background": "light"
     },
     "output_type": "display_data"
    }
   ],
   "source": [
    "plot_head_to_head(\"ORL\", \"KCC\")"
   ]
  },
  {
   "cell_type": "code",
   "execution_count": 33,
   "metadata": {},
   "outputs": [
    {
     "data": {
      "text/plain": [
       "<Figure size 864x576 with 0 Axes>"
      ]
     },
     "metadata": {},
     "output_type": "display_data"
    },
    {
     "data": {
      "text/plain": [
       "<Figure size 2400x1600 with 0 Axes>"
      ]
     },
     "metadata": {},
     "output_type": "display_data"
    },
    {
     "data": {
      "image/png": "[encoded data removed]",
      "text/plain": [
       "<Figure size 864x576 with 3 Axes>"
      ]
     },
     "metadata": {},
     "output_type": "display_data"
    }
   ],
   "source": [
    "plt.clf()\n",
    "plt.rcParams[\"figure.figsize\"] = (12, 8)\n",
    "plt.figure(dpi=200, facecolor=Colors.WHITE)\n",
    "fig, ax = plt.subplots()\n",
    "fig.patch.set_facecolor(Colors.WHITE)\n",
    "ax.set_facecolor(Colors.WHITE)\n",
    "\n",
    "\n",
    "WIN_COLORS = [NWSL.color(\"ORL\"), NWSL.color(\"WAS\")]\n",
    "DRAW_COLORS = [Colors.LIGHT_GRAY, Colors.LIGHT_GRAY]\n",
    "LOSS_COLORS = [NWSL.color(\"KCC\"), NWSL.color(\"GFC\")]\n",
    "\n",
    "for (t1, t2) in [(\"ORL\", \"KCC\"), (\"WAS\", \"GFC\")]:\n",
    "    d1 = get_head_to_head(t1, t2)\n",
    "    d1[\"percent\"] = d1[\"count\"] / d1[\"count\"].sum()\n",
    "\n",
    "    starts = np.zeros(1)\n",
    "    for i in [\"W\", \"D\", \"L\"]:\n",
    "        colors = {\n",
    "            \"W\": NWSL.color(t1),\n",
    "            \"D\": Colors.LIGHT_GRAY,\n",
    "            \"L\": NWSL.color(t2),\n",
    "        }\n",
    "        text_colors = {\n",
    "            \"W\": NWSL.text_color(t1),\n",
    "            \"D\": Colors.BLACK,\n",
    "            \"L\": NWSL.text_color(t2),\n",
    "        }\n",
    "        label = d1[d1[\"result\"] == i].iloc[0][\"count\"]\n",
    "        rects = ax.barh(\n",
    "            [1.5 if t1 == \"ORL\" else 1],\n",
    "            [d1[d1[\"result\"] == i].iloc[0][\"percent\"]],\n",
    "            left=starts,\n",
    "            height=0.25,\n",
    "            color=[colors[i]],\n",
    "            label=[label],\n",
    "        )\n",
    "        ax.bar_label(\n",
    "            rects,\n",
    "            labels=[label if label > 0 else \"\"],\n",
    "            label_type=\"center\",\n",
    "            color=text_colors[i],\n",
    "            fontproperties=Fonts.BARLOW,\n",
    "            size=20,\n",
    "        )\n",
    "        if label > 0:\n",
    "            plt.text(\n",
    "                rects[0].get_x() + rects[0].get_width() / 2.0,\n",
    "                rects[0].get_y() - 0.03,\n",
    "                t1 + \" Win\" if i == \"W\" else (t2 + \" Win\" if i == \"L\" else \"Draw\"),\n",
    "                ha=\"center\",\n",
    "                va=\"top\",\n",
    "                fontproperties=Fonts.BARLOW,\n",
    "                size=20,\n",
    "            )\n",
    "\n",
    "        starts += [d1[d1[\"result\"] == i].iloc[0][\"percent\"]]\n",
    "        \n",
    "ax.axis(\"off\")\n",
    "\n",
    "plt.text(\n",
    "    0.5,\n",
    "    1.65,\n",
    "    \"Orlando Pride v Kansas City Current\",\n",
    "    ha=\"center\",\n",
    "    va=\"baseline\",\n",
    "    fontproperties=Fonts.BARLOW,\n",
    "    size=26,\n",
    ")\n",
    "\n",
    "plt.text(\n",
    "    0.5,\n",
    "    1.15,\n",
    "    \"Washington Spirit v NJ/NY Gotham FC\",\n",
    "    ha=\"center\",\n",
    "    va=\"baseline\",\n",
    "    fontproperties=Fonts.BARLOW,\n",
    "    size=26,\n",
    ")\n",
    "\n",
    "ax.set_title(\n",
    "    \"Head to Head Records\",\n",
    "    fontproperties=Fonts.BARLOW_BOLD,\n",
    "    size=36,\n",
    "    ha=\"left\",\n",
    "    x=0,\n",
    "    y=1.22,\n",
    ")\n",
    "\n",
    "# Subtitle\n",
    "ax.text(\n",
    "    0,\n",
    "    1.75,\n",
    "    \"The two lower seeds have yet to beat their opponents yet this season but\\nall time matchups are more even.\",\n",
    "    fontproperties=Fonts.BARLOW,\n",
    "    size=20,\n",
    "    ha=\"left\",\n",
    ")\n",
    "\n",
    "add_signature(fig, x=0.72, y=0.04, fs=14, w=0.025)\n",
    "\n",
    "# Save image\n",
    "plt.savefig(\n",
    "    \"head_to_head_2024.png\",\n",
    "    bbox_inches=\"tight\",\n",
    "    pad_inches=0.5,\n",
    ")"
   ]
  },
  {
   "cell_type": "code",
   "execution_count": null,
   "metadata": {},
   "outputs": [],
   "source": []
  }
 ],
 "metadata": {
  "kernelspec": {
   "display_name": "Python 3",
   "language": "python",
   "name": "python3"
  },
  "language_info": {
   "codemirror_mode": {
    "name": "ipython",
    "version": 3
   },
   "file_extension": ".py",
   "mimetype": "text/x-python",
   "name": "python",
   "nbconvert_exporter": "python",
   "pygments_lexer": "ipython3",
   "version": "3.8.10"
  }
 },
 "nbformat": 4,
 "nbformat_minor": 4
}
