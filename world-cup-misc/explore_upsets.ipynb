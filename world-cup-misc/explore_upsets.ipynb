{
 "cells": [
  {
   "cell_type": "code",
   "execution_count": 1,
   "metadata": {},
   "outputs": [],
   "source": [
    "import pandas as pd"
   ]
  },
  {
   "cell_type": "code",
   "execution_count": 12,
   "metadata": {},
   "outputs": [],
   "source": [
    "df = pd.DataFrame([], columns=[\"year\", \"team\", \"rank\"])\n",
    "for year in range(1991, 2024, 4):\n",
    "    df_temp = pd.read_csv(\"data/matches_\" + str(year) + \".csv\")\n",
    "    df_new = pd.DataFrame(sorted(df_temp[\"home\"].dropna().unique()), columns=[\"team\"])\n",
    "    df_new[\"year\"] = year\n",
    "    df_new[\"rank\"] = \"\"\n",
    "    df = df.append(df_new)\n",
    "\n",
    "df.to_csv(\"data/ranks.csv\", index=False)"
   ]
  },
  {
   "cell_type": "code",
   "execution_count": null,
   "metadata": {},
   "outputs": [],
   "source": []
  }
 ],
 "metadata": {
  "kernelspec": {
   "display_name": "Python 3",
   "language": "python",
   "name": "python3"
  },
  "language_info": {
   "codemirror_mode": {
    "name": "ipython",
    "version": 3
   },
   "file_extension": ".py",
   "mimetype": "text/x-python",
   "name": "python",
   "nbconvert_exporter": "python",
   "pygments_lexer": "ipython3",
   "version": "3.8.10"
  }
 },
 "nbformat": 4,
 "nbformat_minor": 4
}
