{
 "cells": [
  {
   "cell_type": "code",
   "execution_count": 1,
   "metadata": {},
   "outputs": [],
   "source": [
    "import pandas as pd\n",
    "import matplotlib.pyplot as plt\n",
    "from matplotlib.ticker import FuncFormatter, IndexLocator\n",
    "import numpy as np\n",
    "import calplot"
   ]
  },
  {
   "cell_type": "code",
   "execution_count": 2,
   "metadata": {},
   "outputs": [
    {
     "data": {
      "text/html": [
       "<div>\n",
       "<style scoped>\n",
       "    .dataframe tbody tr th:only-of-type {\n",
       "        vertical-align: middle;\n",
       "    }\n",
       "\n",
       "    .dataframe tbody tr th {\n",
       "        vertical-align: top;\n",
       "    }\n",
       "\n",
       "    .dataframe thead th {\n",
       "        text-align: right;\n",
       "    }\n",
       "</style>\n",
       "<table border=\"1\" class=\"dataframe\">\n",
       "  <thead>\n",
       "    <tr style=\"text-align: right;\">\n",
       "      <th></th>\n",
       "      <th>date</th>\n",
       "      <th>time</th>\n",
       "      <th>home</th>\n",
       "      <th>away</th>\n",
       "    </tr>\n",
       "  </thead>\n",
       "  <tbody>\n",
       "    <tr>\n",
       "      <th>0</th>\n",
       "      <td>2024-03-16</td>\n",
       "      <td>13:00:00</td>\n",
       "      <td>KCC</td>\n",
       "      <td>POR</td>\n",
       "    </tr>\n",
       "    <tr>\n",
       "      <th>1</th>\n",
       "      <td>2024-03-16</td>\n",
       "      <td>16:00:00</td>\n",
       "      <td>LOU</td>\n",
       "      <td>ORL</td>\n",
       "    </tr>\n",
       "    <tr>\n",
       "      <th>2</th>\n",
       "      <td>2024-03-16</td>\n",
       "      <td>19:00:00</td>\n",
       "      <td>NC</td>\n",
       "      <td>HOU</td>\n",
       "    </tr>\n",
       "    <tr>\n",
       "      <th>3</th>\n",
       "      <td>2024-03-16</td>\n",
       "      <td>19:30:00</td>\n",
       "      <td>UTA</td>\n",
       "      <td>CHI</td>\n",
       "    </tr>\n",
       "    <tr>\n",
       "      <th>4</th>\n",
       "      <td>2024-03-16</td>\n",
       "      <td>22:00:00</td>\n",
       "      <td>LA</td>\n",
       "      <td>BFC</td>\n",
       "    </tr>\n",
       "    <tr>\n",
       "      <th>...</th>\n",
       "      <td>...</td>\n",
       "      <td>...</td>\n",
       "      <td>...</td>\n",
       "      <td>...</td>\n",
       "    </tr>\n",
       "    <tr>\n",
       "      <th>177</th>\n",
       "      <td>2024-11-02</td>\n",
       "      <td>17:00:00</td>\n",
       "      <td>ORL</td>\n",
       "      <td>RGN</td>\n",
       "    </tr>\n",
       "    <tr>\n",
       "      <th>178</th>\n",
       "      <td>2024-11-02</td>\n",
       "      <td>19:30:00</td>\n",
       "      <td>NC</td>\n",
       "      <td>WAS</td>\n",
       "    </tr>\n",
       "    <tr>\n",
       "      <th>179</th>\n",
       "      <td>2024-11-02</td>\n",
       "      <td>21:30:00</td>\n",
       "      <td>HOU</td>\n",
       "      <td>BFC</td>\n",
       "    </tr>\n",
       "    <tr>\n",
       "      <th>180</th>\n",
       "      <td>2024-11-03</td>\n",
       "      <td>15:15:00</td>\n",
       "      <td>CHI</td>\n",
       "      <td>KCC</td>\n",
       "    </tr>\n",
       "    <tr>\n",
       "      <th>181</th>\n",
       "      <td>2024-11-03</td>\n",
       "      <td>17:30:00</td>\n",
       "      <td>SD</td>\n",
       "      <td>LOU</td>\n",
       "    </tr>\n",
       "  </tbody>\n",
       "</table>\n",
       "<p>182 rows × 4 columns</p>\n",
       "</div>"
      ],
      "text/plain": [
       "           date      time home away\n",
       "0    2024-03-16  13:00:00  KCC  POR\n",
       "1    2024-03-16  16:00:00  LOU  ORL\n",
       "2    2024-03-16  19:00:00   NC  HOU\n",
       "3    2024-03-16  19:30:00  UTA  CHI\n",
       "4    2024-03-16  22:00:00   LA  BFC\n",
       "..          ...       ...  ...  ...\n",
       "177  2024-11-02  17:00:00  ORL  RGN\n",
       "178  2024-11-02  19:30:00   NC  WAS\n",
       "179  2024-11-02  21:30:00  HOU  BFC\n",
       "180  2024-11-03  15:15:00  CHI  KCC\n",
       "181  2024-11-03  17:30:00   SD  LOU\n",
       "\n",
       "[182 rows x 4 columns]"
      ]
     },
     "execution_count": 2,
     "metadata": {},
     "output_type": "execute_result"
    }
   ],
   "source": [
    "df = pd.read_csv(\"data/2024_schedule.csv\")\n",
    "df"
   ]
  },
  {
   "cell_type": "code",
   "execution_count": 3,
   "metadata": {},
   "outputs": [
    {
     "name": "stderr",
     "output_type": "stream",
     "text": [
      "<ipython-input-3-79133b2c4aba>:2: UserWarning: Could not infer format, so each element will be parsed individually, falling back to `dateutil`. To ensure parsing is consistent and as-expected, please specify a format.\n",
      "  df[\"time\"] = pd.to_datetime(df[\"time\"])\n"
     ]
    },
    {
     "data": {
      "text/html": [
       "<div>\n",
       "<style scoped>\n",
       "    .dataframe tbody tr th:only-of-type {\n",
       "        vertical-align: middle;\n",
       "    }\n",
       "\n",
       "    .dataframe tbody tr th {\n",
       "        vertical-align: top;\n",
       "    }\n",
       "\n",
       "    .dataframe thead th {\n",
       "        text-align: right;\n",
       "    }\n",
       "</style>\n",
       "<table border=\"1\" class=\"dataframe\">\n",
       "  <thead>\n",
       "    <tr style=\"text-align: right;\">\n",
       "      <th></th>\n",
       "      <th>date</th>\n",
       "      <th>time</th>\n",
       "      <th>home</th>\n",
       "      <th>away</th>\n",
       "      <th>day_of_week</th>\n",
       "      <th>hour_of_day</th>\n",
       "      <th>empty</th>\n",
       "    </tr>\n",
       "  </thead>\n",
       "  <tbody>\n",
       "    <tr>\n",
       "      <th>0</th>\n",
       "      <td>2024-03-16</td>\n",
       "      <td>2024-01-24 13:00:00</td>\n",
       "      <td>KCC</td>\n",
       "      <td>POR</td>\n",
       "      <td>6</td>\n",
       "      <td>13</td>\n",
       "      <td>1</td>\n",
       "    </tr>\n",
       "    <tr>\n",
       "      <th>1</th>\n",
       "      <td>2024-03-16</td>\n",
       "      <td>2024-01-24 16:00:00</td>\n",
       "      <td>LOU</td>\n",
       "      <td>ORL</td>\n",
       "      <td>6</td>\n",
       "      <td>16</td>\n",
       "      <td>1</td>\n",
       "    </tr>\n",
       "    <tr>\n",
       "      <th>2</th>\n",
       "      <td>2024-03-16</td>\n",
       "      <td>2024-01-24 19:00:00</td>\n",
       "      <td>NC</td>\n",
       "      <td>HOU</td>\n",
       "      <td>6</td>\n",
       "      <td>19</td>\n",
       "      <td>1</td>\n",
       "    </tr>\n",
       "    <tr>\n",
       "      <th>3</th>\n",
       "      <td>2024-03-16</td>\n",
       "      <td>2024-01-24 19:30:00</td>\n",
       "      <td>UTA</td>\n",
       "      <td>CHI</td>\n",
       "      <td>6</td>\n",
       "      <td>19</td>\n",
       "      <td>1</td>\n",
       "    </tr>\n",
       "    <tr>\n",
       "      <th>4</th>\n",
       "      <td>2024-03-16</td>\n",
       "      <td>2024-01-24 22:00:00</td>\n",
       "      <td>LA</td>\n",
       "      <td>BFC</td>\n",
       "      <td>6</td>\n",
       "      <td>22</td>\n",
       "      <td>1</td>\n",
       "    </tr>\n",
       "    <tr>\n",
       "      <th>...</th>\n",
       "      <td>...</td>\n",
       "      <td>...</td>\n",
       "      <td>...</td>\n",
       "      <td>...</td>\n",
       "      <td>...</td>\n",
       "      <td>...</td>\n",
       "      <td>...</td>\n",
       "    </tr>\n",
       "    <tr>\n",
       "      <th>177</th>\n",
       "      <td>2024-11-02</td>\n",
       "      <td>2024-01-24 17:00:00</td>\n",
       "      <td>ORL</td>\n",
       "      <td>RGN</td>\n",
       "      <td>6</td>\n",
       "      <td>17</td>\n",
       "      <td>1</td>\n",
       "    </tr>\n",
       "    <tr>\n",
       "      <th>178</th>\n",
       "      <td>2024-11-02</td>\n",
       "      <td>2024-01-24 19:30:00</td>\n",
       "      <td>NC</td>\n",
       "      <td>WAS</td>\n",
       "      <td>6</td>\n",
       "      <td>19</td>\n",
       "      <td>1</td>\n",
       "    </tr>\n",
       "    <tr>\n",
       "      <th>179</th>\n",
       "      <td>2024-11-02</td>\n",
       "      <td>2024-01-24 21:30:00</td>\n",
       "      <td>HOU</td>\n",
       "      <td>BFC</td>\n",
       "      <td>6</td>\n",
       "      <td>21</td>\n",
       "      <td>1</td>\n",
       "    </tr>\n",
       "    <tr>\n",
       "      <th>180</th>\n",
       "      <td>2024-11-03</td>\n",
       "      <td>2024-01-24 15:15:00</td>\n",
       "      <td>CHI</td>\n",
       "      <td>KCC</td>\n",
       "      <td>0</td>\n",
       "      <td>15</td>\n",
       "      <td>1</td>\n",
       "    </tr>\n",
       "    <tr>\n",
       "      <th>181</th>\n",
       "      <td>2024-11-03</td>\n",
       "      <td>2024-01-24 17:30:00</td>\n",
       "      <td>SD</td>\n",
       "      <td>LOU</td>\n",
       "      <td>0</td>\n",
       "      <td>17</td>\n",
       "      <td>1</td>\n",
       "    </tr>\n",
       "  </tbody>\n",
       "</table>\n",
       "<p>182 rows × 7 columns</p>\n",
       "</div>"
      ],
      "text/plain": [
       "          date                time home away  day_of_week  hour_of_day  empty\n",
       "0   2024-03-16 2024-01-24 13:00:00  KCC  POR            6           13      1\n",
       "1   2024-03-16 2024-01-24 16:00:00  LOU  ORL            6           16      1\n",
       "2   2024-03-16 2024-01-24 19:00:00   NC  HOU            6           19      1\n",
       "3   2024-03-16 2024-01-24 19:30:00  UTA  CHI            6           19      1\n",
       "4   2024-03-16 2024-01-24 22:00:00   LA  BFC            6           22      1\n",
       "..         ...                 ...  ...  ...          ...          ...    ...\n",
       "177 2024-11-02 2024-01-24 17:00:00  ORL  RGN            6           17      1\n",
       "178 2024-11-02 2024-01-24 19:30:00   NC  WAS            6           19      1\n",
       "179 2024-11-02 2024-01-24 21:30:00  HOU  BFC            6           21      1\n",
       "180 2024-11-03 2024-01-24 15:15:00  CHI  KCC            0           15      1\n",
       "181 2024-11-03 2024-01-24 17:30:00   SD  LOU            0           17      1\n",
       "\n",
       "[182 rows x 7 columns]"
      ]
     },
     "execution_count": 3,
     "metadata": {},
     "output_type": "execute_result"
    }
   ],
   "source": [
    "df[\"date\"] = pd.to_datetime(df[\"date\"])\n",
    "df[\"time\"] = pd.to_datetime(df[\"time\"])\n",
    "\n",
    "# Get day of week\n",
    "df[\"day_of_week\"] = (df[\"date\"].dt.dayofweek + 1) % 7\n",
    "\n",
    "# Get hour of day\n",
    "df[\"hour_of_day\"] = df[\"time\"].dt.hour\n",
    "\n",
    "# Add empty column\n",
    "df[\"empty\"] = 1\n",
    "df"
   ]
  },
  {
   "cell_type": "markdown",
   "metadata": {},
   "source": [
    "# Week of year"
   ]
  },
  {
   "cell_type": "code",
   "execution_count": 4,
   "metadata": {},
   "outputs": [
    {
     "data": {
      "text/plain": [
       "<Figure size 432x288 with 0 Axes>"
      ]
     },
     "metadata": {},
     "output_type": "display_data"
    },
    {
     "data": {
      "text/plain": [
       "<Figure size 12000x600 with 0 Axes>"
      ]
     },
     "metadata": {},
     "output_type": "display_data"
    },
    {
     "data": {
      "image/png": "[encoded data removed]",
      "text/plain": [
       "<Figure size 720x36 with 1 Axes>"
      ]
     },
     "metadata": {
      "needs_background": "light"
     },
     "output_type": "display_data"
    }
   ],
   "source": [
    "plt.clf()\n",
    "plt.rcParams[\"figure.figsize\"] = (10, 0.5)\n",
    "plt.figure(dpi=1200)\n",
    "fig, ax = plt.subplots()\n",
    "\n",
    "# Creating plot\n",
    "plt.hist2d(\n",
    "    df[\"hour_of_day\"],\n",
    "    df[\"empty\"],\n",
    "    cmap=plt.get_cmap(\"Blues\"),\n",
    "    range=[[0, 24], [0, 1]],\n",
    "    bins=[24, 1],\n",
    ")\n",
    "\n",
    "# Ticks\n",
    "ax.tick_params(bottom=False, left=False)\n",
    "ax.set_yticks([])\n",
    "hours = [\"12:00 AM\", \"6:00 AM\", \"12:00 PM\", \"6:00 PM\", \"12:00 PM\"]\n",
    "ax.xaxis.set_major_formatter(FuncFormatter(lambda self, i: hours[i]))\n",
    "ax.set_xticks([0, 6, 12, 18, 24])\n",
    "\n",
    "# Show plot\n",
    "plt.show()"
   ]
  },
  {
   "cell_type": "markdown",
   "metadata": {},
   "source": [
    "# Day of week"
   ]
  },
  {
   "cell_type": "code",
   "execution_count": 5,
   "metadata": {},
   "outputs": [
    {
     "name": "stdout",
     "output_type": "stream",
     "text": [
      "   day_of_week  count\n",
      "0            0     51\n",
      "1            1      2\n",
      "2            3      8\n",
      "3            4      1\n",
      "4            5     42\n",
      "5            6     78\n"
     ]
    },
    {
     "data": {
      "text/plain": [
       "0.7380952380952381"
      ]
     },
     "execution_count": 5,
     "metadata": {},
     "output_type": "execute_result"
    }
   ],
   "source": [
    "df_date = df.groupby(\"day_of_week\").agg(count=(\"empty\", \"count\")).reset_index()\n",
    "print(df_date)\n",
    "(48+76)/(48+20+1+23+76)"
   ]
  },
  {
   "cell_type": "code",
   "execution_count": 4,
   "metadata": {},
   "outputs": [
    {
     "data": {
      "text/plain": [
       "<Figure size 432x288 with 0 Axes>"
      ]
     },
     "metadata": {},
     "output_type": "display_data"
    },
    {
     "data": {
      "text/plain": [
       "<Figure size 9600x6000 with 0 Axes>"
      ]
     },
     "metadata": {},
     "output_type": "display_data"
    },
    {
     "data": {
      "image/png": "[encoded data removed]",
      "text/plain": [
       "<Figure size 576x360 with 1 Axes>"
      ]
     },
     "metadata": {
      "needs_background": "light"
     },
     "output_type": "display_data"
    }
   ],
   "source": [
    "\n",
    "plt.clf()\n",
    "plt.rcParams[\"figure.figsize\"] = (8, 5)\n",
    "plt.figure(dpi=1200)\n",
    "fig, ax = plt.subplots()\n",
    "\n",
    "my_cmap = plt.get_cmap(\"viridis\")\n",
    "rescale = lambda y: y/6\n",
    "\n",
    "# Plot data\n",
    "plt.bar(df_date[\"day_of_week\"], df_date[\"count\"], color=my_cmap(rescale(df_date[\"day_of_week\"])))\n",
    "\n",
    "# Axes and ticks\n",
    "ax.spines[\"top\"].set_visible(False)\n",
    "ax.spines[\"right\"].set_visible(False)\n",
    "ax.tick_params(bottom=False, left=False)\n",
    "ax.set_axisbelow(True)\n",
    "ax.yaxis.grid(True, color=\"lightgray\")\n",
    "\n",
    "# X tick labels\n",
    "days = [\"\", \"Sun\", \"Mon\", \"Tues\", \"Wed\", \"Thurs\", \"Fri\", \"Sat\"]\n",
    "ax.xaxis.set_major_formatter(\n",
    "    FuncFormatter(lambda self, i: days[i] if i >= 0 and i < len(days) else \"\")\n",
    ")"
   ]
  },
  {
   "cell_type": "markdown",
   "metadata": {},
   "source": [
    "# Heatmap"
   ]
  },
  {
   "cell_type": "code",
   "execution_count": 27,
   "metadata": {},
   "outputs": [
    {
     "name": "stderr",
     "output_type": "stream",
     "text": [
      "findfont: Font family 'Helvetica' not found.\n",
      "findfont: Font family 'Helvetica' not found.\n",
      "findfont: Font family 'Helvetica' not found.\n",
      "findfont: Font family 'Helvetica' not found.\n",
      "findfont: Font family 'Helvetica' not found.\n",
      "findfont: Font family 'Helvetica' not found.\n"
     ]
    },
    {
     "data": {
      "image/png": "[encoded data removed]",
      "text/plain": [
       "<Figure size 900x122.4 with 2 Axes>"
      ]
     },
     "metadata": {
      "needs_background": "light"
     },
     "output_type": "display_data"
    }
   ],
   "source": [
    "df.set_index(\"date\", inplace=True)\n",
    "pl1 = calplot.calplot(\n",
    "    data=df[\"home\"],\n",
    "    how=\"count\",\n",
    "    cmap=\"Blues\",\n",
    "    suptitle=\"NWSL Games\",\n",
    "    colorbar=True\n",
    ")"
   ]
  },
  {
   "cell_type": "code",
   "execution_count": null,
   "metadata": {},
   "outputs": [],
   "source": []
  }
 ],
 "metadata": {
  "kernelspec": {
   "display_name": "Python 3",
   "language": "python",
   "name": "python3"
  },
  "language_info": {
   "codemirror_mode": {
    "name": "ipython",
    "version": 3
   },
   "file_extension": ".py",
   "mimetype": "text/x-python",
   "name": "python",
   "nbconvert_exporter": "python",
   "pygments_lexer": "ipython3",
   "version": "3.8.10"
  }
 },
 "nbformat": 4,
 "nbformat_minor": 4
}
